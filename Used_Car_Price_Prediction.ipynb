{
  "nbformat": 4,
  "nbformat_minor": 0,
  "metadata": {
    "colab": {
      "name": "Used_Car_Price_Prediction.ipynb",
      "provenance": [],
      "collapsed_sections": []
    },
    "kernelspec": {
      "display_name": "Python 3",
      "language": "python",
      "name": "python3"
    },
    "language_info": {
      "codemirror_mode": {
        "name": "ipython",
        "version": 3
      },
      "file_extension": ".py",
      "mimetype": "text/x-python",
      "name": "python",
      "nbconvert_exporter": "python",
      "pygments_lexer": "ipython3",
      "version": "3.7.7"
    },
    "accelerator": "GPU"
  },
  "cells": [
    {
      "cell_type": "markdown",
      "metadata": {
        "colab_type": "text",
        "id": "SlgAnw3ID3ex"
      },
      "source": [
        "## Used Car Price Prediction "
      ]
    },
    {
      "cell_type": "code",
      "metadata": {
        "id": "u_noq2T1X5pR",
        "colab_type": "code",
        "colab": {
          "base_uri": "https://localhost:8080/",
          "height": 125
        },
        "outputId": "1896f786-366b-455d-bb7a-bf36050faceb"
      },
      "source": [
        "# Connecting to Google drive\n",
        "\n",
        "from google.colab import drive\n",
        "drive.mount('/content/drive')"
      ],
      "execution_count": 1,
      "outputs": [
        {
          "output_type": "stream",
          "text": [
            "Go to this URL in a browser: https://accounts.google.com/o/oauth2/auth?client_id=947318989803-6bn6qk8qdgf4n4g3pfee6491hc0brc4i.apps.googleusercontent.com&redirect_uri=urn%3aietf%3awg%3aoauth%3a2.0%3aoob&scope=email%20https%3a%2f%2fwww.googleapis.com%2fauth%2fdocs.test%20https%3a%2f%2fwww.googleapis.com%2fauth%2fdrive%20https%3a%2f%2fwww.googleapis.com%2fauth%2fdrive.photos.readonly%20https%3a%2f%2fwww.googleapis.com%2fauth%2fpeopleapi.readonly&response_type=code\n",
            "\n",
            "Enter your authorization code:\n",
            "··········\n",
            "Mounted at /content/drive\n"
          ],
          "name": "stdout"
        }
      ]
    },
    {
      "cell_type": "code",
      "metadata": {
        "colab_type": "code",
        "id": "kasNeCebD2FB",
        "colab": {
          "base_uri": "https://localhost:8080/",
          "height": 72
        },
        "outputId": "8265de25-0a1a-4847-e7d1-561dd52ed6ad"
      },
      "source": [
        "# Importing the necessary libraries\n",
        "\n",
        "import numpy as np\n",
        "import pandas as pd\n",
        "import matplotlib.pyplot as plt\n",
        "import seaborn as sns\n",
        "\n",
        "import warnings\n",
        "warnings.filterwarnings(\"ignore\")\n",
        "\n",
        "pd.options.display.max_columns = None\n",
        "pd.set_option('display.max_rows', 500)\n",
        "plt.style.use('classic')\n",
        "\n",
        "%matplotlib inline"
      ],
      "execution_count": 2,
      "outputs": [
        {
          "output_type": "stream",
          "text": [
            "/usr/local/lib/python3.6/dist-packages/statsmodels/tools/_testing.py:19: FutureWarning: pandas.util.testing is deprecated. Use the functions in the public API at pandas.testing instead.\n",
            "  import pandas.util.testing as tm\n"
          ],
          "name": "stderr"
        }
      ]
    },
    {
      "cell_type": "code",
      "metadata": {
        "colab_type": "code",
        "id": "5Cl8I1hnID_H",
        "colab": {
          "base_uri": "https://localhost:8080/",
          "height": 517
        },
        "outputId": "215974cc-60ad-40e1-bcad-59daf1a7f04e"
      },
      "source": [
        "# Loading the dataset\n",
        "\n",
        "file_path = \"/content/drive/My Drive/Colab Datasets/Craiglist Vehicle Info/vehicles.csv\"\n",
        "\n",
        "cars_data = pd.read_csv(file_path)\n",
        "cars_data.head()"
      ],
      "execution_count": 3,
      "outputs": [
        {
          "output_type": "execute_result",
          "data": {
            "text/html": [
              "<div>\n",
              "<style scoped>\n",
              "    .dataframe tbody tr th:only-of-type {\n",
              "        vertical-align: middle;\n",
              "    }\n",
              "\n",
              "    .dataframe tbody tr th {\n",
              "        vertical-align: top;\n",
              "    }\n",
              "\n",
              "    .dataframe thead th {\n",
              "        text-align: right;\n",
              "    }\n",
              "</style>\n",
              "<table border=\"1\" class=\"dataframe\">\n",
              "  <thead>\n",
              "    <tr style=\"text-align: right;\">\n",
              "      <th></th>\n",
              "      <th>id</th>\n",
              "      <th>url</th>\n",
              "      <th>region</th>\n",
              "      <th>region_url</th>\n",
              "      <th>price</th>\n",
              "      <th>year</th>\n",
              "      <th>manufacturer</th>\n",
              "      <th>model</th>\n",
              "      <th>condition</th>\n",
              "      <th>cylinders</th>\n",
              "      <th>fuel</th>\n",
              "      <th>odometer</th>\n",
              "      <th>title_status</th>\n",
              "      <th>transmission</th>\n",
              "      <th>vin</th>\n",
              "      <th>drive</th>\n",
              "      <th>size</th>\n",
              "      <th>type</th>\n",
              "      <th>paint_color</th>\n",
              "      <th>image_url</th>\n",
              "      <th>description</th>\n",
              "      <th>county</th>\n",
              "      <th>state</th>\n",
              "      <th>lat</th>\n",
              "      <th>long</th>\n",
              "    </tr>\n",
              "  </thead>\n",
              "  <tbody>\n",
              "    <tr>\n",
              "      <th>0</th>\n",
              "      <td>7119256118</td>\n",
              "      <td>https://mohave.craigslist.org/ctd/d/lake-havas...</td>\n",
              "      <td>mohave county</td>\n",
              "      <td>https://mohave.craigslist.org</td>\n",
              "      <td>3495</td>\n",
              "      <td>2012.0</td>\n",
              "      <td>jeep</td>\n",
              "      <td>patriot</td>\n",
              "      <td>like new</td>\n",
              "      <td>4 cylinders</td>\n",
              "      <td>gas</td>\n",
              "      <td>NaN</td>\n",
              "      <td>clean</td>\n",
              "      <td>automatic</td>\n",
              "      <td>NaN</td>\n",
              "      <td>NaN</td>\n",
              "      <td>NaN</td>\n",
              "      <td>NaN</td>\n",
              "      <td>silver</td>\n",
              "      <td>https://images.craigslist.org/00B0B_k2AXIJ21ok...</td>\n",
              "      <td>THIS 2012 JEEP PATRIOT IS A 4CYL. AC, STEREO, ...</td>\n",
              "      <td>NaN</td>\n",
              "      <td>az</td>\n",
              "      <td>34.4554</td>\n",
              "      <td>-114.2690</td>\n",
              "    </tr>\n",
              "    <tr>\n",
              "      <th>1</th>\n",
              "      <td>7120880186</td>\n",
              "      <td>https://oregoncoast.craigslist.org/cto/d/warre...</td>\n",
              "      <td>oregon coast</td>\n",
              "      <td>https://oregoncoast.craigslist.org</td>\n",
              "      <td>13750</td>\n",
              "      <td>2014.0</td>\n",
              "      <td>bmw</td>\n",
              "      <td>328i m-sport</td>\n",
              "      <td>good</td>\n",
              "      <td>NaN</td>\n",
              "      <td>gas</td>\n",
              "      <td>76237.0</td>\n",
              "      <td>clean</td>\n",
              "      <td>automatic</td>\n",
              "      <td>NaN</td>\n",
              "      <td>rwd</td>\n",
              "      <td>NaN</td>\n",
              "      <td>sedan</td>\n",
              "      <td>grey</td>\n",
              "      <td>https://images.craigslist.org/00U0U_3cLk0WGOJ8...</td>\n",
              "      <td>Selling my 2014 BMW 328i with the following be...</td>\n",
              "      <td>NaN</td>\n",
              "      <td>or</td>\n",
              "      <td>46.1837</td>\n",
              "      <td>-123.8240</td>\n",
              "    </tr>\n",
              "    <tr>\n",
              "      <th>2</th>\n",
              "      <td>7115048251</td>\n",
              "      <td>https://greenville.craigslist.org/cto/d/sparta...</td>\n",
              "      <td>greenville / upstate</td>\n",
              "      <td>https://greenville.craigslist.org</td>\n",
              "      <td>2300</td>\n",
              "      <td>2001.0</td>\n",
              "      <td>dodge</td>\n",
              "      <td>caravan</td>\n",
              "      <td>excellent</td>\n",
              "      <td>6 cylinders</td>\n",
              "      <td>gas</td>\n",
              "      <td>199000.0</td>\n",
              "      <td>clean</td>\n",
              "      <td>automatic</td>\n",
              "      <td>NaN</td>\n",
              "      <td>NaN</td>\n",
              "      <td>NaN</td>\n",
              "      <td>NaN</td>\n",
              "      <td>NaN</td>\n",
              "      <td>https://images.craigslist.org/00k0k_t4WqYn5nDC...</td>\n",
              "      <td>01 DODGE CARAVAN,3.3 ENGINE,AUT TRANS,199000 M...</td>\n",
              "      <td>NaN</td>\n",
              "      <td>sc</td>\n",
              "      <td>34.9352</td>\n",
              "      <td>-81.9654</td>\n",
              "    </tr>\n",
              "    <tr>\n",
              "      <th>3</th>\n",
              "      <td>7119250502</td>\n",
              "      <td>https://mohave.craigslist.org/cto/d/lake-havas...</td>\n",
              "      <td>mohave county</td>\n",
              "      <td>https://mohave.craigslist.org</td>\n",
              "      <td>9000</td>\n",
              "      <td>2004.0</td>\n",
              "      <td>chevrolet</td>\n",
              "      <td>colorado ls</td>\n",
              "      <td>excellent</td>\n",
              "      <td>5 cylinders</td>\n",
              "      <td>gas</td>\n",
              "      <td>54000.0</td>\n",
              "      <td>clean</td>\n",
              "      <td>automatic</td>\n",
              "      <td>1GCCS196448191644</td>\n",
              "      <td>rwd</td>\n",
              "      <td>mid-size</td>\n",
              "      <td>pickup</td>\n",
              "      <td>red</td>\n",
              "      <td>https://images.craigslist.org/00J0J_lJEzfeVLHI...</td>\n",
              "      <td>2004 Chevy Colorado LS, ONLY 54000 ORIGINAL MI...</td>\n",
              "      <td>NaN</td>\n",
              "      <td>az</td>\n",
              "      <td>34.4783</td>\n",
              "      <td>-114.2710</td>\n",
              "    </tr>\n",
              "    <tr>\n",
              "      <th>4</th>\n",
              "      <td>7120433904</td>\n",
              "      <td>https://maine.craigslist.org/ctd/d/searsport-t...</td>\n",
              "      <td>maine</td>\n",
              "      <td>https://maine.craigslist.org</td>\n",
              "      <td>0</td>\n",
              "      <td>2021.0</td>\n",
              "      <td>NaN</td>\n",
              "      <td>Honda-Nissan-Kia-Ford-Hyundai-VW</td>\n",
              "      <td>NaN</td>\n",
              "      <td>NaN</td>\n",
              "      <td>other</td>\n",
              "      <td>NaN</td>\n",
              "      <td>clean</td>\n",
              "      <td>other</td>\n",
              "      <td>NaN</td>\n",
              "      <td>NaN</td>\n",
              "      <td>NaN</td>\n",
              "      <td>NaN</td>\n",
              "      <td>NaN</td>\n",
              "      <td>https://images.craigslist.org/01010_j0IW34mCsm...</td>\n",
              "      <td>CALL: 207.548.6500 TEXT: 207.407.5598  **WE FI...</td>\n",
              "      <td>NaN</td>\n",
              "      <td>me</td>\n",
              "      <td>44.4699</td>\n",
              "      <td>-68.8963</td>\n",
              "    </tr>\n",
              "  </tbody>\n",
              "</table>\n",
              "</div>"
            ],
            "text/plain": [
              "           id                                                url  \\\n",
              "0  7119256118  https://mohave.craigslist.org/ctd/d/lake-havas...   \n",
              "1  7120880186  https://oregoncoast.craigslist.org/cto/d/warre...   \n",
              "2  7115048251  https://greenville.craigslist.org/cto/d/sparta...   \n",
              "3  7119250502  https://mohave.craigslist.org/cto/d/lake-havas...   \n",
              "4  7120433904  https://maine.craigslist.org/ctd/d/searsport-t...   \n",
              "\n",
              "                 region                          region_url  price    year  \\\n",
              "0         mohave county       https://mohave.craigslist.org   3495  2012.0   \n",
              "1          oregon coast  https://oregoncoast.craigslist.org  13750  2014.0   \n",
              "2  greenville / upstate   https://greenville.craigslist.org   2300  2001.0   \n",
              "3         mohave county       https://mohave.craigslist.org   9000  2004.0   \n",
              "4                 maine        https://maine.craigslist.org      0  2021.0   \n",
              "\n",
              "  manufacturer                             model  condition    cylinders  \\\n",
              "0         jeep                           patriot   like new  4 cylinders   \n",
              "1          bmw                      328i m-sport       good          NaN   \n",
              "2        dodge                           caravan  excellent  6 cylinders   \n",
              "3    chevrolet                       colorado ls  excellent  5 cylinders   \n",
              "4          NaN  Honda-Nissan-Kia-Ford-Hyundai-VW        NaN          NaN   \n",
              "\n",
              "    fuel  odometer title_status transmission                vin drive  \\\n",
              "0    gas       NaN        clean    automatic                NaN   NaN   \n",
              "1    gas   76237.0        clean    automatic                NaN   rwd   \n",
              "2    gas  199000.0        clean    automatic                NaN   NaN   \n",
              "3    gas   54000.0        clean    automatic  1GCCS196448191644   rwd   \n",
              "4  other       NaN        clean        other                NaN   NaN   \n",
              "\n",
              "       size    type paint_color  \\\n",
              "0       NaN     NaN      silver   \n",
              "1       NaN   sedan        grey   \n",
              "2       NaN     NaN         NaN   \n",
              "3  mid-size  pickup         red   \n",
              "4       NaN     NaN         NaN   \n",
              "\n",
              "                                           image_url  \\\n",
              "0  https://images.craigslist.org/00B0B_k2AXIJ21ok...   \n",
              "1  https://images.craigslist.org/00U0U_3cLk0WGOJ8...   \n",
              "2  https://images.craigslist.org/00k0k_t4WqYn5nDC...   \n",
              "3  https://images.craigslist.org/00J0J_lJEzfeVLHI...   \n",
              "4  https://images.craigslist.org/01010_j0IW34mCsm...   \n",
              "\n",
              "                                         description  county state      lat  \\\n",
              "0  THIS 2012 JEEP PATRIOT IS A 4CYL. AC, STEREO, ...     NaN    az  34.4554   \n",
              "1  Selling my 2014 BMW 328i with the following be...     NaN    or  46.1837   \n",
              "2  01 DODGE CARAVAN,3.3 ENGINE,AUT TRANS,199000 M...     NaN    sc  34.9352   \n",
              "3  2004 Chevy Colorado LS, ONLY 54000 ORIGINAL MI...     NaN    az  34.4783   \n",
              "4  CALL: 207.548.6500 TEXT: 207.407.5598  **WE FI...     NaN    me  44.4699   \n",
              "\n",
              "       long  \n",
              "0 -114.2690  \n",
              "1 -123.8240  \n",
              "2  -81.9654  \n",
              "3 -114.2710  \n",
              "4  -68.8963  "
            ]
          },
          "metadata": {
            "tags": []
          },
          "execution_count": 3
        }
      ]
    },
    {
      "cell_type": "code",
      "metadata": {
        "colab_type": "code",
        "id": "fJ7Tz5yJJVjM",
        "colab": {
          "base_uri": "https://localhost:8080/",
          "height": 585
        },
        "outputId": "c20d87d0-acd6-44ad-c6b0-7cd76034d95b"
      },
      "source": [
        "# Checking the features and no. of records in the dataset.\n",
        "\n",
        "cars_data.info()"
      ],
      "execution_count": 4,
      "outputs": [
        {
          "output_type": "stream",
          "text": [
            "<class 'pandas.core.frame.DataFrame'>\n",
            "RangeIndex: 435849 entries, 0 to 435848\n",
            "Data columns (total 25 columns):\n",
            " #   Column        Non-Null Count   Dtype  \n",
            "---  ------        --------------   -----  \n",
            " 0   id            435849 non-null  int64  \n",
            " 1   url           435849 non-null  object \n",
            " 2   region        435849 non-null  object \n",
            " 3   region_url    435849 non-null  object \n",
            " 4   price         435849 non-null  int64  \n",
            " 5   year          434732 non-null  float64\n",
            " 6   manufacturer  415102 non-null  object \n",
            " 7   model         429650 non-null  object \n",
            " 8   condition     249043 non-null  object \n",
            " 9   cylinders     269465 non-null  object \n",
            " 10  fuel          432858 non-null  object \n",
            " 11  odometer      360701 non-null  float64\n",
            " 12  title_status  434043 non-null  object \n",
            " 13  transmission  433703 non-null  object \n",
            " 14  vin           239197 non-null  object \n",
            " 15  drive         313838 non-null  object \n",
            " 16  size          139888 non-null  object \n",
            " 17  type          318741 non-null  object \n",
            " 18  paint_color   300602 non-null  object \n",
            " 19  image_url     435825 non-null  object \n",
            " 20  description   435822 non-null  object \n",
            " 21  county        0 non-null       float64\n",
            " 22  state         435849 non-null  object \n",
            " 23  lat           427614 non-null  float64\n",
            " 24  long          427614 non-null  float64\n",
            "dtypes: float64(5), int64(2), object(18)\n",
            "memory usage: 83.1+ MB\n"
          ],
          "name": "stdout"
        }
      ]
    },
    {
      "cell_type": "markdown",
      "metadata": {
        "colab_type": "text",
        "id": "5R8jTcL4ZNha"
      },
      "source": [
        "##### There are 400K+ records and 25 features. The aim is to predict vehicle Price."
      ]
    },
    {
      "cell_type": "markdown",
      "metadata": {
        "colab_type": "text",
        "id": "DbPn7chHaFi8"
      },
      "source": [
        "### EDA"
      ]
    },
    {
      "cell_type": "code",
      "metadata": {
        "colab_type": "code",
        "id": "yN4k6Tn0Ywm4",
        "colab": {
          "base_uri": "https://localhost:8080/",
          "height": 478
        },
        "outputId": "ed4c2f2b-f614-4e11-ba94-afbdf8e791f6"
      },
      "source": [
        "# Checking the percentage of missing values for each feature\n",
        "cars_data.isnull().mean()"
      ],
      "execution_count": 5,
      "outputs": [
        {
          "output_type": "execute_result",
          "data": {
            "text/plain": [
              "id              0.000000\n",
              "url             0.000000\n",
              "region          0.000000\n",
              "region_url      0.000000\n",
              "price           0.000000\n",
              "year            0.002563\n",
              "manufacturer    0.047601\n",
              "model           0.014223\n",
              "condition       0.428603\n",
              "cylinders       0.381747\n",
              "fuel            0.006862\n",
              "odometer        0.172418\n",
              "title_status    0.004144\n",
              "transmission    0.004924\n",
              "vin             0.451193\n",
              "drive           0.279939\n",
              "size            0.679045\n",
              "type            0.268689\n",
              "paint_color     0.310307\n",
              "image_url       0.000055\n",
              "description     0.000062\n",
              "county          1.000000\n",
              "state           0.000000\n",
              "lat             0.018894\n",
              "long            0.018894\n",
              "dtype: float64"
            ]
          },
          "metadata": {
            "tags": []
          },
          "execution_count": 5
        }
      ]
    },
    {
      "cell_type": "code",
      "metadata": {
        "colab_type": "code",
        "id": "VTdX8UBRaP56",
        "colab": {}
      },
      "source": [
        "# Dropping duplicate records, if any\n",
        "cars_data.drop_duplicates(inplace = True)"
      ],
      "execution_count": 6,
      "outputs": []
    },
    {
      "cell_type": "code",
      "metadata": {
        "colab_type": "code",
        "id": "XZhSk8l8bF36",
        "colab": {}
      },
      "source": [
        "# Dropping features which have more than 60% missing values\n",
        "cars_data.dropna(thresh = len(cars_data) * 0.6, axis = 1, inplace = True)"
      ],
      "execution_count": 7,
      "outputs": []
    },
    {
      "cell_type": "code",
      "metadata": {
        "colab_type": "code",
        "id": "z3kZc5FEerX0",
        "colab": {}
      },
      "source": [
        "cars_data[\"description\"] = cars_data[\"description\"].astype(str)\n",
        "cars_data[\"description\"] = cars_data[\"description\"].apply(lambda x : x.upper())"
      ],
      "execution_count": 8,
      "outputs": []
    },
    {
      "cell_type": "code",
      "metadata": {
        "colab_type": "code",
        "id": "HVN84GKme6wb",
        "colab": {}
      },
      "source": [
        "# Adding the description length as feature\n",
        "cars_data['Description Length'] = cars_data[\"description\"].apply(lambda x: len(x))"
      ],
      "execution_count": 9,
      "outputs": []
    },
    {
      "cell_type": "code",
      "metadata": {
        "colab_type": "code",
        "id": "l_TpN7i3fwxS",
        "colab": {}
      },
      "source": [
        "# Dropping features that seems not useful\n",
        "cars_data = cars_data.drop(['id', 'url', 'region_url', 'lat', 'long', 'description', 'image_url'], axis = 1)"
      ],
      "execution_count": 10,
      "outputs": []
    },
    {
      "cell_type": "markdown",
      "metadata": {
        "colab_type": "text",
        "id": "Qq_uHuP_lxd1"
      },
      "source": [
        "#### Univariate Analysis"
      ]
    },
    {
      "cell_type": "code",
      "metadata": {
        "colab_type": "code",
        "id": "orxF8H-SgtpK",
        "colab": {
          "base_uri": "https://localhost:8080/",
          "height": 294
        },
        "outputId": "ada96af1-eff7-433b-9edd-49e3cc1cc2a0"
      },
      "source": [
        "#Checking the dependent variable \"Price\" to detect outliers\n",
        "\n",
        "sns.distplot(cars_data[\"price\"], bins=50, hist=True, kde=True)\n",
        "plt.show()"
      ],
      "execution_count": 11,
      "outputs": [
        {
          "output_type": "display_data",
          "data": {
            "image/png": "[encoded data removed]",
            "text/plain": [
              "<Figure size 432x288 with 1 Axes>"
            ]
          },
          "metadata": {
            "tags": [],
            "needs_background": "light"
          }
        }
      ]
    },
    {
      "cell_type": "code",
      "metadata": {
        "colab_type": "code",
        "id": "sTOyKX3tjMaO",
        "colab": {
          "base_uri": "https://localhost:8080/",
          "height": 274
        },
        "outputId": "536a9665-9b6d-4bd5-d885-6890db6970e0"
      },
      "source": [
        "sns.boxplot(\"price\", data = cars_data, orient = \"v\")\n",
        "plt.tick_params(labelsize = 20)\n",
        "plt.ylabel(\"Price (US $)\", fontsize = 20)\n",
        "plt.show()"
      ],
      "execution_count": 12,
      "outputs": [
        {
          "output_type": "display_data",
          "data": {
            "image/png": "[encoded data removed]",
            "text/plain": [
              "<Figure size 432x288 with 1 Axes>"
            ]
          },
          "metadata": {
            "tags": [],
            "needs_background": "light"
          }
        }
      ]
    },
    {
      "cell_type": "code",
      "metadata": {
        "colab_type": "code",
        "id": "_7jkq6iNjwSB",
        "colab": {
          "base_uri": "https://localhost:8080/",
          "height": 212
        },
        "outputId": "f3eb2f87-6cb1-41fb-8553-123437ebd941"
      },
      "source": [
        "quantile_price = cars_data[\"price\"].quantile(np.round(np.arange(0.00, 1.01, 0.1), 2))\n",
        "qValues = np.round(np.arange(0.00, 1.01, 0.1), 2)\n",
        "for i in qValues:\n",
        "    print(\"{}th percentile value of Price is {}\".format((int(i*100)), quantile_price[i]))"
      ],
      "execution_count": 13,
      "outputs": [
        {
          "output_type": "stream",
          "text": [
            "0th percentile value of Price is 0.0\n",
            "10th percentile value of Price is 1000.0\n",
            "20th percentile value of Price is 3950.0\n",
            "30th percentile value of Price is 5800.0\n",
            "40th percentile value of Price is 7790.200000000012\n",
            "50th percentile value of Price is 9995.0\n",
            "60th percentile value of Price is 12987.799999999988\n",
            "70th percentile value of Price is 15990.0\n",
            "80th percentile value of Price is 19998.0\n",
            "90th percentile value of Price is 27765.0\n",
            "100th percentile value of Price is 3647256576.0\n"
          ],
          "name": "stdout"
        }
      ]
    },
    {
      "cell_type": "code",
      "metadata": {
        "colab_type": "code",
        "id": "6bTCWIJrkMnq",
        "colab": {
          "base_uri": "https://localhost:8080/",
          "height": 212
        },
        "outputId": "0aeffe6c-f268-4c7f-da39-4acf9ba6e426"
      },
      "source": [
        "quantile_price = cars_data[\"price\"].quantile(np.round(np.arange(0.90, 1.01, 0.01), 2))\n",
        "qValues = np.round(np.arange(0.90, 1.01, 0.01), 2)\n",
        "for i in qValues:\n",
        "    print(\"{}th percentile value of Price is {}\".format((int(i*100)), quantile_price[i]))"
      ],
      "execution_count": 14,
      "outputs": [
        {
          "output_type": "stream",
          "text": [
            "90th percentile value of Price is 27765.0\n",
            "91th percentile value of Price is 28599.0\n",
            "92th percentile value of Price is 29900.0\n",
            "93th percentile value of Price is 30990.0\n",
            "94th percentile value of Price is 32900.0\n",
            "95th percentile value of Price is 34750.0\n",
            "96th percentile value of Price is 36900.0\n",
            "97th percentile value of Price is 39888.0\n",
            "98th percentile value of Price is 44418.27999999985\n",
            "99th percentile value of Price is 53566.0\n",
            "100th percentile value of Price is 3647256576.0\n"
          ],
          "name": "stdout"
        }
      ]
    },
    {
      "cell_type": "code",
      "metadata": {
        "colab_type": "code",
        "id": "dW6jHEmxkXce",
        "colab": {
          "base_uri": "https://localhost:8080/",
          "height": 212
        },
        "outputId": "ea2ba349-cdc7-40d6-cd7f-33281e80026a"
      },
      "source": [
        "quantile_price = cars_data[\"price\"].quantile(np.round(np.arange(0.990, 1.001, 0.001), 4))\n",
        "qValues = np.round(np.arange(0.990, 1.001, 0.001), 4)\n",
        "for i in qValues:\n",
        "    print(\"{}th percentile value of Price is {}\".format(((i*100)), quantile_price[i]))"
      ],
      "execution_count": 15,
      "outputs": [
        {
          "output_type": "stream",
          "text": [
            "99.0th percentile value of Price is 53566.0\n",
            "99.1th percentile value of Price is 54999.0\n",
            "99.2th percentile value of Price is 56995.0\n",
            "99.3th percentile value of Price is 59000.0\n",
            "99.4th percentile value of Price is 60777.91200000007\n",
            "99.5th percentile value of Price is 63999.0\n",
            "99.6th percentile value of Price is 67898.04000000004\n",
            "99.7th percentile value of Price is 73995.0\n",
            "99.8th percentile value of Price is 84152.00000000186\n",
            "99.9th percentile value of Price is 111111.0\n",
            "100.0th percentile value of Price is 3647256576.0\n"
          ],
          "name": "stdout"
        }
      ]
    },
    {
      "cell_type": "code",
      "metadata": {
        "colab_type": "code",
        "id": "i2_BOhZroX5w",
        "colab": {
          "base_uri": "https://localhost:8080/",
          "height": 194
        },
        "outputId": "f47869c1-8b66-4290-c4e6-28e7af87b299"
      },
      "source": [
        "quantile_price = cars_data[\"price\"].quantile(np.round(np.arange(0.00, 0.1, 0.01), 2))\n",
        "qValues = np.round(np.arange(0.00, 0.1, 0.01), 2)\n",
        "for i in qValues:\n",
        "    print(\"{}th percentile value of Price is {}\".format((int(i*100)), quantile_price[i]))"
      ],
      "execution_count": 16,
      "outputs": [
        {
          "output_type": "stream",
          "text": [
            "0th percentile value of Price is 0.0\n",
            "1th percentile value of Price is 0.0\n",
            "2th percentile value of Price is 0.0\n",
            "3th percentile value of Price is 0.0\n",
            "4th percentile value of Price is 0.0\n",
            "5th percentile value of Price is 0.0\n",
            "6th percentile value of Price is 0.0\n",
            "7th percentile value of Price is 0.0\n",
            "8th percentile value of Price is 160.0\n",
            "9th percentile value of Price is 500.0\n"
          ],
          "name": "stdout"
        }
      ]
    },
    {
      "cell_type": "code",
      "metadata": {
        "colab_type": "code",
        "id": "UOkreQcWkyFU",
        "colab": {
          "base_uri": "https://localhost:8080/",
          "height": 52
        },
        "outputId": "9ebeafba-3d84-49e2-ee7a-4a7376fa0714"
      },
      "source": [
        "outliers_price = cars_data[cars_data[\"price\"] > 84152]\n",
        "print(\"Total records: \", outliers_price.shape[0])\n",
        "print(\"The percentage of outlier data points : \", round(outliers_price.shape[0] / len(cars_data), 5))"
      ],
      "execution_count": 17,
      "outputs": [
        {
          "output_type": "stream",
          "text": [
            "Total records:  872\n",
            "The percentage of outlier data points :  0.002\n"
          ],
          "name": "stdout"
        }
      ]
    },
    {
      "cell_type": "code",
      "metadata": {
        "colab_type": "code",
        "id": "WMtX0qMkleM5",
        "colab": {
          "base_uri": "https://localhost:8080/",
          "height": 52
        },
        "outputId": "12468426-fc10-4460-8ae7-b456907c3154"
      },
      "source": [
        "outliers_price = cars_data[cars_data[\"price\"] < cars_data[\"price\"].quantile(0.1)]\n",
        "print(\"Total records: \", outliers_price.shape[0])\n",
        "print(\"The percentage of outlier data points : \", round(outliers_price.shape[0] / len(cars_data), 5))"
      ],
      "execution_count": 18,
      "outputs": [
        {
          "output_type": "stream",
          "text": [
            "Total records:  42474\n",
            "The percentage of outlier data points :  0.09745\n"
          ],
          "name": "stdout"
        }
      ]
    },
    {
      "cell_type": "code",
      "metadata": {
        "colab_type": "code",
        "id": "M22RIkGisEiY",
        "colab": {
          "base_uri": "https://localhost:8080/",
          "height": 52
        },
        "outputId": "405354d6-ba4c-4c25-d414-d68ef8a040f3"
      },
      "source": [
        "outliers_price = cars_data[cars_data[\"price\"] > 60000]\n",
        "print(\"Total records: \", outliers_price.shape[0])\n",
        "print(\"The percentage of outlier data points : \", round(outliers_price.shape[0] / len(cars_data), 5))"
      ],
      "execution_count": 19,
      "outputs": [
        {
          "output_type": "stream",
          "text": [
            "Total records:  2641\n",
            "The percentage of outlier data points :  0.00606\n"
          ],
          "name": "stdout"
        }
      ]
    },
    {
      "cell_type": "code",
      "metadata": {
        "colab_type": "code",
        "id": "SjIGrsNjl-JI",
        "colab": {}
      },
      "source": [
        "cars_data = cars_data[(cars_data[\"price\"] >= cars_data[\"price\"].quantile(0.1)) & (cars_data[\"price\"] < cars_data[\"price\"].quantile(0.998))]"
      ],
      "execution_count": 20,
      "outputs": []
    },
    {
      "cell_type": "code",
      "metadata": {
        "colab_type": "code",
        "id": "lhYPH8tHr6HE",
        "colab": {}
      },
      "source": [
        "cars_data = cars_data[(cars_data[\"price\"] <= 60000)]"
      ],
      "execution_count": 21,
      "outputs": []
    },
    {
      "cell_type": "code",
      "metadata": {
        "colab_type": "code",
        "id": "ijzTvVVAl42l",
        "colab": {
          "base_uri": "https://localhost:8080/",
          "height": 273
        },
        "outputId": "d1f5e104-d51a-45bd-d07c-2347bcf7f579"
      },
      "source": [
        "sns.boxplot(\"price\", data = cars_data, orient = \"v\")\n",
        "plt.tick_params(labelsize = 20)\n",
        "plt.ylabel(\"Price (US $)\", fontsize = 20)\n",
        "plt.show()"
      ],
      "execution_count": 22,
      "outputs": [
        {
          "output_type": "display_data",
          "data": {
            "image/png": "[encoded data removed]",
            "text/plain": [
              "<Figure size 432x288 with 1 Axes>"
            ]
          },
          "metadata": {
            "tags": [],
            "needs_background": "light"
          }
        }
      ]
    },
    {
      "cell_type": "code",
      "metadata": {
        "colab_type": "code",
        "id": "1mX2UwHsrbW3",
        "colab": {
          "base_uri": "https://localhost:8080/",
          "height": 287
        },
        "outputId": "2a8ec1c9-9bd7-492a-abef-695cd81f39c5"
      },
      "source": [
        "#Checking the dependent variable \"Price\" to detect outliers\n",
        "sns.distplot(cars_data[\"price\"], bins=50, hist=True, kde=True)\n",
        "plt.show()"
      ],
      "execution_count": 23,
      "outputs": [
        {
          "output_type": "display_data",
          "data": {
            "image/png": "[encoded data removed]",
            "text/plain": [
              "<Figure size 432x288 with 1 Axes>"
            ]
          },
          "metadata": {
            "tags": [],
            "needs_background": "light"
          }
        }
      ]
    },
    {
      "cell_type": "code",
      "metadata": {
        "colab_type": "code",
        "id": "SXG9dUQqsVoE",
        "colab": {
          "base_uri": "https://localhost:8080/",
          "height": 1000
        },
        "outputId": "26fe0e0c-8e39-46b1-8e34-f2f11eb8f712"
      },
      "source": [
        "# Region\n",
        "\n",
        "cars_data[\"region\"].value_counts()"
      ],
      "execution_count": 24,
      "outputs": [
        {
          "output_type": "execute_result",
          "data": {
            "text/plain": [
              "springfield                   3125\n",
              "jacksonville                  2969\n",
              "columbus                      2939\n",
              "grand rapids                  2908\n",
              "anchorage / mat-su            2895\n",
              "omaha / council bluffs        2883\n",
              "denver                        2869\n",
              "baltimore                     2843\n",
              "nashville                     2837\n",
              "des moines                    2835\n",
              "colorado springs              2830\n",
              "milwaukee                     2828\n",
              "portland                      2805\n",
              "madison                       2804\n",
              "kansas city, MO               2803\n",
              "fort collins / north CO       2792\n",
              "boise                         2786\n",
              "tampa bay area                2780\n",
              "indianapolis                  2780\n",
              "ft myers / SW florida         2777\n",
              "sacramento                    2776\n",
              "north jersey                  2767\n",
              "phoenix                       2766\n",
              "las vegas                     2763\n",
              "minneapolis / st paul         2753\n",
              "tucson                        2751\n",
              "stockton                      2744\n",
              "spokane / coeur d'alene       2739\n",
              "pittsburgh                    2726\n",
              "reno / tahoe                  2724\n",
              "austin                        2711\n",
              "SF bay area                   2699\n",
              "central NJ                    2696\n",
              "cleveland                     2691\n",
              "seattle-tacoma                2671\n",
              "modesto                       2670\n",
              "south florida                 2670\n",
              "new york city                 2662\n",
              "greenville / upstate          2659\n",
              "chicago                       2654\n",
              "hawaii                        2649\n",
              "fresno / madera               2647\n",
              "fayetteville                  2646\n",
              "raleigh / durham / CH         2642\n",
              "albuquerque                   2641\n",
              "rochester                     2640\n",
              "washington, DC                2639\n",
              "oklahoma city                 2634\n",
              "kennewick-pasco-richland      2634\n",
              "orlando                       2623\n",
              "boston                        2620\n",
              "detroit metro                 2580\n",
              "dallas / fort worth           2577\n",
              "new hampshire                 2568\n",
              "atlanta                       2551\n",
              "los angeles                   2550\n",
              "knoxville                     2546\n",
              "st louis, MO                  2541\n",
              "orange county                 2518\n",
              "san diego                     2513\n",
              "tulsa                         2503\n",
              "philadelphia                  2496\n",
              "cincinnati                    2486\n",
              "eugene                        2474\n",
              "bend                          2465\n",
              "vermont                       2446\n",
              "charlotte                     2435\n",
              "sarasota-bradenton            2426\n",
              "long island                   2422\n",
              "san antonio                   2410\n",
              "bellingham                    2410\n",
              "louisville                    2409\n",
              "richmond                      2392\n",
              "akron / canton                2375\n",
              "south jersey                  2373\n",
              "maine                         2367\n",
              "rhode island                  2362\n",
              "norfolk / hampton roads       2343\n",
              "houston                       2340\n",
              "hartford                      2248\n",
              "el paso                       2229\n",
              "birmingham                    2204\n",
              "inland empire                 2200\n",
              "medford-ashland               2174\n",
              "ventura county                2153\n",
              "greensboro                    2091\n",
              "bakersfield                   2003\n",
              "corpus christi                1987\n",
              "memphis                       1932\n",
              "little rock                   1928\n",
              "billings                      1914\n",
              "albany                        1906\n",
              "redding                       1899\n",
              "missoula                      1859\n",
              "appleton-oshkosh-FDL          1854\n",
              "salem                         1800\n",
              "treasure coast                1795\n",
              "western massachusetts         1789\n",
              "green bay                     1781\n",
              "san luis obispo               1749\n",
              "ocala                         1733\n",
              "daytona beach                 1730\n",
              "wichita                       1681\n",
              "buffalo                       1661\n",
              "asheville                     1645\n",
              "charleston                    1611\n",
              "palm springs                  1596\n",
              "bozeman                       1569\n",
              "new haven                     1529\n",
              "fargo / moorhead              1525\n",
              "space coast                   1488\n",
              "new orleans                   1460\n",
              "huntsville / decatur          1454\n",
              "mcallen / edinburg            1449\n",
              "hudson valley                 1401\n",
              "tri-cities                    1393\n",
              "east idaho                    1383\n",
              "gainesville                   1353\n",
              "worcester / central MA        1329\n",
              "jackson                       1299\n",
              "columbia                      1298\n",
              "lincoln                       1285\n",
              "tyler / east TX               1273\n",
              "dayton / springfield          1226\n",
              "lansing                       1220\n",
              "lexington                     1218\n",
              "chattanooga                   1212\n",
              "kalispell                     1212\n",
              "lakeland                      1211\n",
              "flint                         1180\n",
              "great falls                   1175\n",
              "syracuse                      1167\n",
              "clarksville                   1162\n",
              "eau claire                    1160\n",
              "corvallis/albany              1136\n",
              "yuba-sutter                   1133\n",
              "st cloud                      1118\n",
              "chico                         1095\n",
              "yakima                        1077\n",
              "duluth / superior             1049\n",
              "roanoke                       1040\n",
              "western slope                 1013\n",
              "wausau                        1011\n",
              "columbia / jeff city          1008\n",
              "myrtle beach                   971\n",
              "tallahassee                    947\n",
              "northern michigan              947\n",
              "toledo                         943\n",
              "delaware                       943\n",
              "winston-salem                  940\n",
              "waterloo / cedar falls         905\n",
              "monterey bay                   903\n",
              "cedar rapids                   900\n",
              "topeka                         882\n",
              "fredericksburg                 872\n",
              "south bend / michiana          871\n",
              "baton rouge                    865\n",
              "wilmington                     850\n",
              "pensacola                      845\n",
              "fort wayne                     824\n",
              "wenatchee                      818\n",
              "quad cities, IA/IL             813\n",
              "lewiston / clarkston           811\n",
              "oregon coast                   784\n",
              "sioux falls / SE SD            783\n",
              "flagstaff / sedona             776\n",
              "moses lake                     753\n",
              "eastern NC                     737\n",
              "saginaw-midland-baycity        735\n",
              "kalamazoo                      735\n",
              "lancaster                      731\n",
              "harrisburg                     726\n",
              "mobile                         712\n",
              "rapid city / west SD           691\n",
              "charlottesville                690\n",
              "wyoming                        683\n",
              "amarillo                       682\n",
              "santa barbara                  680\n",
              "youngstown                     677\n",
              "lehigh valley                  654\n",
              "twin falls                     634\n",
              "salt lake city                 627\n",
              "kenosha-racine                 607\n",
              "rockford                       595\n",
              "ann arbor                      594\n",
              "south coast                    590\n",
              "la crosse                      586\n",
              "waco                           585\n",
              "macon / warner robins          575\n",
              "bemidji                        574\n",
              "pullman / moscow               573\n",
              "southwest michigan             569\n",
              "eastern CT                     561\n",
              "visalia-tulare                 553\n",
              "scranton / wilkes-barre        541\n",
              "lubbock                        539\n",
              "york                           538\n",
              "fairbanks                      533\n",
              "odessa / midland               519\n",
              "brainerd                       516\n",
              "binghamton                     516\n",
              "iowa city                      505\n",
              "st george                      503\n",
              "cape cod / islands             494\n",
              "boulder                        491\n",
              "hickory / lenoir               490\n",
              "savannah / hinesville          485\n",
              "gold country                   469\n",
              "killeen / temple / ft hood     465\n",
              "montgomery                     461\n",
              "jersey shore                   461\n",
              "north mississippi              460\n",
              "santa fe / taos                459\n",
              "skagit / island / SJI          455\n",
              "panama city                    455\n",
              "prescott                       451\n",
              "athens                         444\n",
              "mohave county                  444\n",
              "monroe                         430\n",
              "pueblo                         423\n",
              "joplin                         416\n",
              "eastern shore                  413\n",
              "sioux city                     408\n",
              "northern WI                    399\n",
              "augusta                        397\n",
              "winchester                     395\n",
              "watertown                      390\n",
              "mankato                        388\n",
              "central michigan               387\n",
              "peoria                         382\n",
              "okaloosa / walton              382\n",
              "helena                         378\n",
              "southern illinois              372\n",
              "east oregon                    372\n",
              "harrisonburg                   366\n",
              "santa maria                    363\n",
              "bowling green                  361\n",
              "jonesboro                      358\n",
              "brownsville                    354\n",
              "gulfport / biloxi              353\n",
              "wichita falls                  353\n",
              "lynchburg                      346\n",
              "fort smith                     341\n",
              "dubuque                        340\n",
              "olympic peninsula              340\n",
              "reading                        336\n",
              "erie                           336\n",
              "lima / findlay                 335\n",
              "utica-rome-oneida              332\n",
              "upper peninsula                331\n",
              "las cruces                     321\n",
              "evansville                     320\n",
              "humboldt county                307\n",
              "grand island                   306\n",
              "champaign urbana               302\n",
              "st augustine                   300\n",
              "battle creek                   297\n",
              "grand forks                    292\n",
              "muskegon                       290\n",
              "holland                        284\n",
              "poconos                        282\n",
              "valdosta                       281\n",
              "port huron                     278\n",
              "high rockies                   274\n",
              "yuma                           270\n",
              "sheboygan                      264\n",
              "roseburg                       262\n",
              "northwest GA                   262\n",
              "williamsport                   250\n",
              "dothan                         247\n",
              "florence                       247\n",
              "merced                         239\n",
              "kenai peninsula                237\n",
              "shreveport                     234\n",
              "western maryland               233\n",
              "college station                231\n",
              "st joseph                      226\n",
              "mansfield                      218\n",
              "klamath falls                  218\n",
              "south dakota                   213\n",
              "northwest CT                   209\n",
              "southeast missouri             209\n",
              "ames                           208\n",
              "lafayette / west lafayette     207\n",
              "abilene                        205\n",
              "frederick                      199\n",
              "altoona-johnstown              197\n",
              "muncie / anderson              194\n",
              "catskills                      193\n",
              "danville                       188\n",
              "bloomington-normal             186\n",
              "lake of the ozarks             184\n",
              "northern panhandle             182\n",
              "hattiesburg                    181\n",
              "the thumb                      177\n",
              "morgantown                     177\n",
              "plattsburgh-adirondacks        171\n",
              "show low                       169\n",
              "san angelo                     169\n",
              "mason city                     168\n",
              "laredo                         165\n",
              "boone                          165\n",
              "farmington                     164\n",
              "texarkana                      158\n",
              "annapolis                      158\n",
              "victoria                       152\n",
              "janesville                     151\n",
              "finger lakes                   151\n",
              "southern maryland              150\n",
              "north central FL               149\n",
              "ithaca                         144\n",
              "florence / muscle shoals       142\n",
              "bloomington                    142\n",
              "terre haute                    141\n",
              "gadsden-anniston               139\n",
              "provo / orem                   136\n",
              "potsdam-canton-massena         132\n",
              "southeast IA                   128\n",
              "elmira-corning                 128\n",
              "new river valley               125\n",
              "fort dodge                     119\n",
              "san marcos                     119\n",
              "elko                           117\n",
              "bismarck                       117\n",
              "tuscaloosa                     117\n",
              "auburn                         117\n",
              "zanesville / cambridge         115\n",
              "scottsbluff / panhandle        113\n",
              "imperial county                113\n",
              "florida keys                   112\n",
              "glens falls                    112\n",
              "heartland florida              111\n",
              "sierra vista                   111\n",
              "cumberland valley              111\n",
              "mendocino county               110\n",
              "southeast KS                   109\n",
              "manhattan                      106\n",
              "eastern kentucky               106\n",
              "eastern CO                     105\n",
              "huntington-ashland             104\n",
              "beaumont / port arthur         100\n",
              "cookeville                      99\n",
              "ashtabula                       99\n",
              "chautauqua                      99\n",
              "brunswick                       97\n",
              "western KY                      97\n",
              "eastern panhandle               97\n",
              "deep east texas                 96\n",
              "southeast alaska                95\n",
              "northwest KS                    94\n",
              "roswell / carlsbad              93\n",
              "lafayette                       93\n",
              "lawton                          90\n",
              "del rio / eagle pass            90\n",
              "chillicothe                     89\n",
              "eastern montana                 88\n",
              "southwest MN                    87\n",
              "north dakota                    86\n",
              "state college                   86\n",
              "northwest OK                    85\n",
              "butte                           84\n",
              "decatur                         83\n",
              "logan                           83\n",
              "texoma                          82\n",
              "outer banks                     80\n",
              "hilton head                     77\n",
              "parkersburg-marietta            77\n",
              "southwest MS                    75\n",
              "southwest VA                    75\n",
              "salina                          74\n",
              "mattoon-charleston              70\n",
              "kokomo                          70\n",
              "ogden-clearfield                68\n",
              "galveston                       67\n",
              "pierre / central SD             66\n",
              "clovis / portales               66\n",
              "lawrence                        65\n",
              "oneonta                         64\n",
              "houma                           62\n",
              "southern WV                     62\n",
              "hanford-corcoran                59\n",
              "lake charles                    57\n",
              "central louisiana               57\n",
              "siskiyou county                 57\n",
              "statesboro                      56\n",
              "sandusky                        54\n",
              "western IL                      54\n",
              "stillwater                      52\n",
              "northeast SD                    51\n",
              "twin tiers NY/PA                49\n",
              "tuscarawas co                   47\n",
              "southwest TX                    40\n",
              "north platte                    40\n",
              "kirksville                      32\n",
              "susanville                      32\n",
              "meridian                        31\n",
              "la salle co                     30\n",
              "owensboro                       27\n",
              "southwest KS                    24\n",
              "meadville                       23\n",
              "kansas city                     10\n",
              "west virginia (old)             10\n",
              "fort smith, AR                   1\n",
              "Name: region, dtype: int64"
            ]
          },
          "metadata": {
            "tags": []
          },
          "execution_count": 24
        }
      ]
    },
    {
      "cell_type": "code",
      "metadata": {
        "colab_type": "code",
        "id": "q8HNirOts-fe",
        "colab": {
          "base_uri": "https://localhost:8080/",
          "height": 941
        },
        "outputId": "f7b903da-516a-40e5-8b60-40da32f2ed66"
      },
      "source": [
        "# State\n",
        "\n",
        "cars_data[\"state\"].value_counts()"
      ],
      "execution_count": 25,
      "outputs": [
        {
          "output_type": "execute_result",
          "data": {
            "text/plain": [
              "ca    41531\n",
              "fl    28561\n",
              "tx    21907\n",
              "ny    15526\n",
              "or    14490\n",
              "oh    14428\n",
              "mi    13913\n",
              "nc    13504\n",
              "wi    13446\n",
              "tn    11662\n",
              "wa    11216\n",
              "co    10797\n",
              "pa     9923\n",
              "ia     9399\n",
              "id     8868\n",
              "va     8748\n",
              "mn     8731\n",
              "il     8628\n",
              "nj     8297\n",
              "mt     8279\n",
              "az     7738\n",
              "ma     6822\n",
              "sc     6630\n",
              "ks     5838\n",
              "in     5634\n",
              "al     5593\n",
              "ok     5447\n",
              "ga     5359\n",
              "mo     4662\n",
              "ct     4547\n",
              "ky     4321\n",
              "ar     4297\n",
              "md     4105\n",
              "ak     3760\n",
              "nm     3744\n",
              "la     3117\n",
              "nv     2903\n",
              "hi     2649\n",
              "dc     2639\n",
              "nh     2568\n",
              "vt     2446\n",
              "me     2367\n",
              "ri     2362\n",
              "sd     1804\n",
              "ne     1746\n",
              "ms     1658\n",
              "ut     1417\n",
              "de      943\n",
              "wy      683\n",
              "wv      582\n",
              "nd      499\n",
              "Name: state, dtype: int64"
            ]
          },
          "metadata": {
            "tags": []
          },
          "execution_count": 25
        }
      ]
    },
    {
      "cell_type": "code",
      "metadata": {
        "colab_type": "code",
        "id": "e8vubkBftJEp",
        "colab": {}
      },
      "source": [
        "# City and Region would not affect the pricing of the vehicle, so they can be dropped\n",
        "\n",
        "cars_data.drop(labels=[\"region\", \"state\"], axis = 1, inplace = True)"
      ],
      "execution_count": 26,
      "outputs": []
    },
    {
      "cell_type": "code",
      "metadata": {
        "colab_type": "code",
        "id": "oFX4-enY0XWX",
        "colab": {
          "base_uri": "https://localhost:8080/",
          "height": 1000
        },
        "outputId": "ca954676-9a2a-4ad0-b3bc-dd81fa47e2b9"
      },
      "source": [
        "cars_data[\"year\"].sort_values().value_counts().sort_index()"
      ],
      "execution_count": 27,
      "outputs": [
        {
          "output_type": "execute_result",
          "data": {
            "text/plain": [
              "1900.0        5\n",
              "1911.0        1\n",
              "1912.0        5\n",
              "1915.0        1\n",
              "1916.0        3\n",
              "1917.0        1\n",
              "1919.0        2\n",
              "1920.0        1\n",
              "1922.0        4\n",
              "1923.0       37\n",
              "1924.0        7\n",
              "1925.0        9\n",
              "1926.0       10\n",
              "1927.0       33\n",
              "1928.0       27\n",
              "1929.0       65\n",
              "1930.0       48\n",
              "1931.0       58\n",
              "1932.0       32\n",
              "1933.0       16\n",
              "1934.0       35\n",
              "1935.0       16\n",
              "1936.0       45\n",
              "1937.0       69\n",
              "1938.0       21\n",
              "1939.0       54\n",
              "1940.0       89\n",
              "1941.0       57\n",
              "1942.0       22\n",
              "1944.0        2\n",
              "1945.0        1\n",
              "1946.0       77\n",
              "1947.0       60\n",
              "1948.0       97\n",
              "1949.0      107\n",
              "1950.0      111\n",
              "1951.0      104\n",
              "1952.0       81\n",
              "1953.0       86\n",
              "1954.0       77\n",
              "1955.0      203\n",
              "1956.0      175\n",
              "1957.0      201\n",
              "1958.0       83\n",
              "1959.0       88\n",
              "1960.0       90\n",
              "1961.0       79\n",
              "1962.0      143\n",
              "1963.0      193\n",
              "1964.0      270\n",
              "1965.0      337\n",
              "1966.0      462\n",
              "1967.0      391\n",
              "1968.0      392\n",
              "1969.0      421\n",
              "1970.0      372\n",
              "1971.0      346\n",
              "1972.0      402\n",
              "1973.0      351\n",
              "1974.0      270\n",
              "1975.0      203\n",
              "1976.0      254\n",
              "1977.0      288\n",
              "1978.0      393\n",
              "1979.0      417\n",
              "1980.0      248\n",
              "1981.0      205\n",
              "1982.0      171\n",
              "1983.0      230\n",
              "1984.0      394\n",
              "1985.0      444\n",
              "1986.0      475\n",
              "1987.0      589\n",
              "1988.0      507\n",
              "1989.0      596\n",
              "1990.0      589\n",
              "1991.0      586\n",
              "1992.0      697\n",
              "1993.0      755\n",
              "1994.0     1037\n",
              "1995.0     1296\n",
              "1996.0     1354\n",
              "1997.0     1891\n",
              "1998.0     2137\n",
              "1999.0     3431\n",
              "2000.0     4432\n",
              "2001.0     5247\n",
              "2002.0     6640\n",
              "2003.0     8675\n",
              "2004.0    11189\n",
              "2005.0    13347\n",
              "2006.0    16098\n",
              "2007.0    19173\n",
              "2008.0    21051\n",
              "2009.0    14880\n",
              "2010.0    18322\n",
              "2011.0    24352\n",
              "2012.0    26331\n",
              "2013.0    28353\n",
              "2014.0    28114\n",
              "2015.0    29343\n",
              "2016.0    27913\n",
              "2017.0    29418\n",
              "2018.0    16717\n",
              "2019.0    12287\n",
              "2020.0     1789\n",
              "2021.0       37\n",
              "Name: year, dtype: int64"
            ]
          },
          "metadata": {
            "tags": []
          },
          "execution_count": 27
        }
      ]
    },
    {
      "cell_type": "code",
      "metadata": {
        "colab_type": "code",
        "id": "TzajXXYXvyOC",
        "colab": {}
      },
      "source": [
        "# Filling the missing year with 2017 which seems to be the most frequent year\n",
        "\n",
        "cars_data[\"year\"] = cars_data[\"year\"].fillna(2017)"
      ],
      "execution_count": 28,
      "outputs": []
    },
    {
      "cell_type": "code",
      "metadata": {
        "colab_type": "code",
        "id": "JC5Tqtte2QvS",
        "colab": {}
      },
      "source": [
        "# 2021 year is impossible given we are in 2020, so replaced the values with 2017 which is most frequent year\n",
        "\n",
        "cars_data[\"year\"] = cars_data[\"year\"].replace(2021, 2017)"
      ],
      "execution_count": 29,
      "outputs": []
    },
    {
      "cell_type": "code",
      "metadata": {
        "colab_type": "code",
        "id": "222oR1_C2478",
        "colab": {}
      },
      "source": [
        "cars_data[\"year\"] = cars_data[\"year\"].astype('int')"
      ],
      "execution_count": 30,
      "outputs": []
    },
    {
      "cell_type": "code",
      "metadata": {
        "colab_type": "code",
        "id": "xRbUIcFP38HR",
        "colab": {
          "base_uri": "https://localhost:8080/",
          "height": 781
        },
        "outputId": "3417a35e-cb94-4cdb-cf81-136d145b4560"
      },
      "source": [
        "cars_data[\"manufacturer\"].value_counts()"
      ],
      "execution_count": 31,
      "outputs": [
        {
          "output_type": "execute_result",
          "data": {
            "text/plain": [
              "ford               69877\n",
              "chevrolet          55989\n",
              "toyota             31550\n",
              "nissan             20533\n",
              "honda              20434\n",
              "ram                18056\n",
              "jeep               17922\n",
              "gmc                16903\n",
              "dodge              12507\n",
              "bmw                11415\n",
              "subaru              9713\n",
              "hyundai             9355\n",
              "volkswagen          9047\n",
              "mercedes-benz       8521\n",
              "kia                 6997\n",
              "chrysler            5929\n",
              "cadillac            5604\n",
              "lexus               5164\n",
              "buick               5090\n",
              "mazda               4835\n",
              "audi                4553\n",
              "acura               3063\n",
              "infiniti            3005\n",
              "lincoln             2619\n",
              "pontiac             2556\n",
              "volvo               2529\n",
              "mitsubishi          2145\n",
              "mini                1828\n",
              "rover               1631\n",
              "mercury             1163\n",
              "saturn              1089\n",
              "fiat                 868\n",
              "jaguar               858\n",
              "tesla                252\n",
              "harley-davidson      135\n",
              "datsun                65\n",
              "alfa-romeo            58\n",
              "aston-martin          25\n",
              "land rover            23\n",
              "porche                22\n",
              "ferrari               18\n",
              "morgan                 2\n",
              "Name: manufacturer, dtype: int64"
            ]
          },
          "metadata": {
            "tags": []
          },
          "execution_count": 31
        }
      ]
    },
    {
      "cell_type": "code",
      "metadata": {
        "colab_type": "code",
        "id": "6TUK1fLmFBMl",
        "colab": {
          "base_uri": "https://localhost:8080/",
          "height": 230
        },
        "outputId": "3bf19442-a972-49a0-d563-5b10715d9f24"
      },
      "source": [
        "cars_data[\"model\"].value_counts()"
      ],
      "execution_count": 32,
      "outputs": [
        {
          "output_type": "execute_result",
          "data": {
            "text/plain": [
              "f-150                7167\n",
              "silverado 1500       4798\n",
              "1500                 3945\n",
              "silverado            3589\n",
              "camry                2945\n",
              "                     ... \n",
              "volt base               1\n",
              "l-9000                  1\n",
              "avanger r/t             1\n",
              "4x4 1500 big horn       1\n",
              "FORDF-450               1\n",
              "Name: model, Length: 31423, dtype: int64"
            ]
          },
          "metadata": {
            "tags": []
          },
          "execution_count": 32
        }
      ]
    },
    {
      "cell_type": "code",
      "metadata": {
        "colab_type": "code",
        "id": "RKYnb4blFEOU",
        "colab": {}
      },
      "source": [
        "# Manufacturer and Model can be dropped as they represent the various types of vehicles\n",
        "\n",
        "cars_data.drop(labels=[\"manufacturer\", \"model\"], axis = 1, inplace = True)"
      ],
      "execution_count": 33,
      "outputs": []
    },
    {
      "cell_type": "code",
      "metadata": {
        "colab_type": "code",
        "id": "xyAlcJkjGEH-",
        "colab": {
          "base_uri": "https://localhost:8080/",
          "height": 176
        },
        "outputId": "9aa4d211-0d66-4fb8-a291-bd63d785170f"
      },
      "source": [
        "# Cylinders\n",
        "\n",
        "cars_data[\"cylinders\"].value_counts()"
      ],
      "execution_count": 34,
      "outputs": [
        {
          "output_type": "execute_result",
          "data": {
            "text/plain": [
              "6 cylinders     87564\n",
              "4 cylinders     78799\n",
              "8 cylinders     75007\n",
              "5 cylinders      2327\n",
              "10 cylinders     1315\n",
              "other             962\n",
              "3 cylinders       509\n",
              "12 cylinders      147\n",
              "Name: cylinders, dtype: int64"
            ]
          },
          "metadata": {
            "tags": []
          },
          "execution_count": 34
        }
      ]
    },
    {
      "cell_type": "code",
      "metadata": {
        "colab_type": "code",
        "id": "FULEmFc1Gek7",
        "colab": {}
      },
      "source": [
        "cars_data[\"cylinders\"] = cars_data[\"cylinders\"].apply(lambda x: str(x).replace('cylinders','').strip())"
      ],
      "execution_count": 35,
      "outputs": []
    },
    {
      "cell_type": "code",
      "metadata": {
        "colab_type": "code",
        "id": "3dJAkuiBGq21",
        "colab": {}
      },
      "source": [
        "cars_data[\"cylinders\"] = pd.to_numeric(cars_data[\"cylinders\"], errors = 'coerce')"
      ],
      "execution_count": 36,
      "outputs": []
    },
    {
      "cell_type": "code",
      "metadata": {
        "colab_type": "code",
        "id": "-eF4CnacG70Z",
        "colab": {}
      },
      "source": [
        "cars_data[\"cylinders\"].fillna(cars_data[\"cylinders\"].median(), inplace = True)"
      ],
      "execution_count": 37,
      "outputs": []
    },
    {
      "cell_type": "code",
      "metadata": {
        "colab_type": "code",
        "id": "lUt-8Ts-GnGr",
        "colab": {
          "base_uri": "https://localhost:8080/",
          "height": 123
        },
        "outputId": "c496d69b-f839-4b80-dd6a-cba8e1247111"
      },
      "source": [
        "# Fuel\n",
        "\n",
        "cars_data[\"fuel\"].value_counts()"
      ],
      "execution_count": 38,
      "outputs": [
        {
          "output_type": "execute_result",
          "data": {
            "text/plain": [
              "gas         339642\n",
              "diesel       33170\n",
              "other        10412\n",
              "hybrid        3883\n",
              "electric       907\n",
              "Name: fuel, dtype: int64"
            ]
          },
          "metadata": {
            "tags": []
          },
          "execution_count": 38
        }
      ]
    },
    {
      "cell_type": "code",
      "metadata": {
        "colab_type": "code",
        "id": "vyURiLDYHSvO",
        "colab": {
          "base_uri": "https://localhost:8080/",
          "height": 406
        },
        "outputId": "a0d8c497-4e6e-4c07-f5d5-46ffbba20549"
      },
      "source": [
        "cars_data[cars_data[\"fuel\"].isna()]"
      ],
      "execution_count": 39,
      "outputs": [
        {
          "output_type": "execute_result",
          "data": {
            "text/html": [
              "<div>\n",
              "<style scoped>\n",
              "    .dataframe tbody tr th:only-of-type {\n",
              "        vertical-align: middle;\n",
              "    }\n",
              "\n",
              "    .dataframe tbody tr th {\n",
              "        vertical-align: top;\n",
              "    }\n",
              "\n",
              "    .dataframe thead th {\n",
              "        text-align: right;\n",
              "    }\n",
              "</style>\n",
              "<table border=\"1\" class=\"dataframe\">\n",
              "  <thead>\n",
              "    <tr style=\"text-align: right;\">\n",
              "      <th></th>\n",
              "      <th>price</th>\n",
              "      <th>year</th>\n",
              "      <th>cylinders</th>\n",
              "      <th>fuel</th>\n",
              "      <th>odometer</th>\n",
              "      <th>title_status</th>\n",
              "      <th>transmission</th>\n",
              "      <th>drive</th>\n",
              "      <th>type</th>\n",
              "      <th>paint_color</th>\n",
              "      <th>Description Length</th>\n",
              "    </tr>\n",
              "  </thead>\n",
              "  <tbody>\n",
              "    <tr>\n",
              "      <th>104</th>\n",
              "      <td>11761</td>\n",
              "      <td>2012</td>\n",
              "      <td>6.0</td>\n",
              "      <td>NaN</td>\n",
              "      <td>101324.0</td>\n",
              "      <td>NaN</td>\n",
              "      <td>automatic</td>\n",
              "      <td>rwd</td>\n",
              "      <td>SUV</td>\n",
              "      <td>black</td>\n",
              "      <td>5889</td>\n",
              "    </tr>\n",
              "    <tr>\n",
              "      <th>351</th>\n",
              "      <td>38431</td>\n",
              "      <td>2017</td>\n",
              "      <td>8.0</td>\n",
              "      <td>NaN</td>\n",
              "      <td>42455.0</td>\n",
              "      <td>NaN</td>\n",
              "      <td>automatic</td>\n",
              "      <td>rwd</td>\n",
              "      <td>SUV</td>\n",
              "      <td>NaN</td>\n",
              "      <td>7782</td>\n",
              "    </tr>\n",
              "    <tr>\n",
              "      <th>382</th>\n",
              "      <td>4200</td>\n",
              "      <td>2007</td>\n",
              "      <td>6.0</td>\n",
              "      <td>NaN</td>\n",
              "      <td>156146.0</td>\n",
              "      <td>clean</td>\n",
              "      <td>automatic</td>\n",
              "      <td>fwd</td>\n",
              "      <td>sedan</td>\n",
              "      <td>grey</td>\n",
              "      <td>3599</td>\n",
              "    </tr>\n",
              "    <tr>\n",
              "      <th>460</th>\n",
              "      <td>8980</td>\n",
              "      <td>2010</td>\n",
              "      <td>8.0</td>\n",
              "      <td>NaN</td>\n",
              "      <td>157867.0</td>\n",
              "      <td>NaN</td>\n",
              "      <td>manual</td>\n",
              "      <td>rwd</td>\n",
              "      <td>pickup</td>\n",
              "      <td>black</td>\n",
              "      <td>3991</td>\n",
              "    </tr>\n",
              "    <tr>\n",
              "      <th>628</th>\n",
              "      <td>3950</td>\n",
              "      <td>2006</td>\n",
              "      <td>8.0</td>\n",
              "      <td>NaN</td>\n",
              "      <td>0.0</td>\n",
              "      <td>clean</td>\n",
              "      <td>automatic</td>\n",
              "      <td>rwd</td>\n",
              "      <td>sedan</td>\n",
              "      <td>NaN</td>\n",
              "      <td>3625</td>\n",
              "    </tr>\n",
              "    <tr>\n",
              "      <th>...</th>\n",
              "      <td>...</td>\n",
              "      <td>...</td>\n",
              "      <td>...</td>\n",
              "      <td>...</td>\n",
              "      <td>...</td>\n",
              "      <td>...</td>\n",
              "      <td>...</td>\n",
              "      <td>...</td>\n",
              "      <td>...</td>\n",
              "      <td>...</td>\n",
              "      <td>...</td>\n",
              "    </tr>\n",
              "    <tr>\n",
              "      <th>434139</th>\n",
              "      <td>19999</td>\n",
              "      <td>2018</td>\n",
              "      <td>6.0</td>\n",
              "      <td>NaN</td>\n",
              "      <td>12810.0</td>\n",
              "      <td>clean</td>\n",
              "      <td>automatic</td>\n",
              "      <td>rwd</td>\n",
              "      <td>NaN</td>\n",
              "      <td>NaN</td>\n",
              "      <td>1486</td>\n",
              "    </tr>\n",
              "    <tr>\n",
              "      <th>434162</th>\n",
              "      <td>9999</td>\n",
              "      <td>2015</td>\n",
              "      <td>4.0</td>\n",
              "      <td>NaN</td>\n",
              "      <td>62750.0</td>\n",
              "      <td>clean</td>\n",
              "      <td>automatic</td>\n",
              "      <td>fwd</td>\n",
              "      <td>sedan</td>\n",
              "      <td>silver</td>\n",
              "      <td>2307</td>\n",
              "    </tr>\n",
              "    <tr>\n",
              "      <th>434467</th>\n",
              "      <td>9800</td>\n",
              "      <td>2011</td>\n",
              "      <td>8.0</td>\n",
              "      <td>NaN</td>\n",
              "      <td>184000.0</td>\n",
              "      <td>clean</td>\n",
              "      <td>automatic</td>\n",
              "      <td>4wd</td>\n",
              "      <td>pickup</td>\n",
              "      <td>black</td>\n",
              "      <td>1877</td>\n",
              "    </tr>\n",
              "    <tr>\n",
              "      <th>435298</th>\n",
              "      <td>23900</td>\n",
              "      <td>2017</td>\n",
              "      <td>6.0</td>\n",
              "      <td>NaN</td>\n",
              "      <td>14987.0</td>\n",
              "      <td>NaN</td>\n",
              "      <td>automatic</td>\n",
              "      <td>rwd</td>\n",
              "      <td>pickup</td>\n",
              "      <td>NaN</td>\n",
              "      <td>3690</td>\n",
              "    </tr>\n",
              "    <tr>\n",
              "      <th>435500</th>\n",
              "      <td>6450</td>\n",
              "      <td>1999</td>\n",
              "      <td>6.0</td>\n",
              "      <td>NaN</td>\n",
              "      <td>94345.0</td>\n",
              "      <td>clean</td>\n",
              "      <td>other</td>\n",
              "      <td>NaN</td>\n",
              "      <td>other</td>\n",
              "      <td>white</td>\n",
              "      <td>533</td>\n",
              "    </tr>\n",
              "  </tbody>\n",
              "</table>\n",
              "<p>2720 rows × 11 columns</p>\n",
              "</div>"
            ],
            "text/plain": [
              "        price  year  cylinders fuel  odometer title_status transmission drive  \\\n",
              "104     11761  2012        6.0  NaN  101324.0          NaN    automatic   rwd   \n",
              "351     38431  2017        8.0  NaN   42455.0          NaN    automatic   rwd   \n",
              "382      4200  2007        6.0  NaN  156146.0        clean    automatic   fwd   \n",
              "460      8980  2010        8.0  NaN  157867.0          NaN       manual   rwd   \n",
              "628      3950  2006        8.0  NaN       0.0        clean    automatic   rwd   \n",
              "...       ...   ...        ...  ...       ...          ...          ...   ...   \n",
              "434139  19999  2018        6.0  NaN   12810.0        clean    automatic   rwd   \n",
              "434162   9999  2015        4.0  NaN   62750.0        clean    automatic   fwd   \n",
              "434467   9800  2011        8.0  NaN  184000.0        clean    automatic   4wd   \n",
              "435298  23900  2017        6.0  NaN   14987.0          NaN    automatic   rwd   \n",
              "435500   6450  1999        6.0  NaN   94345.0        clean        other   NaN   \n",
              "\n",
              "          type paint_color  Description Length  \n",
              "104        SUV       black                5889  \n",
              "351        SUV         NaN                7782  \n",
              "382      sedan        grey                3599  \n",
              "460     pickup       black                3991  \n",
              "628      sedan         NaN                3625  \n",
              "...        ...         ...                 ...  \n",
              "434139     NaN         NaN                1486  \n",
              "434162   sedan      silver                2307  \n",
              "434467  pickup       black                1877  \n",
              "435298  pickup         NaN                3690  \n",
              "435500   other       white                 533  \n",
              "\n",
              "[2720 rows x 11 columns]"
            ]
          },
          "metadata": {
            "tags": []
          },
          "execution_count": 39
        }
      ]
    },
    {
      "cell_type": "code",
      "metadata": {
        "colab_type": "code",
        "id": "qTIuW9QSIVoL",
        "colab": {}
      },
      "source": [
        "cars_data[\"fuel\"].fillna(\"gas\", inplace = True)"
      ],
      "execution_count": 40,
      "outputs": []
    },
    {
      "cell_type": "code",
      "metadata": {
        "colab_type": "code",
        "id": "Kl0hYttjIlKj",
        "colab": {
          "base_uri": "https://localhost:8080/",
          "height": 287
        },
        "outputId": "aa29d145-feee-4b58-f7e5-f8711bf18993"
      },
      "source": [
        "#Odometer\n",
        "\n",
        "sns.distplot(cars_data[\"odometer\"], bins=50, hist=True, kde=True)\n",
        "plt.show()"
      ],
      "execution_count": 41,
      "outputs": [
        {
          "output_type": "display_data",
          "data": {
            "image/png": "[encoded data removed]",
            "text/plain": [
              "<Figure size 432x288 with 1 Axes>"
            ]
          },
          "metadata": {
            "tags": [],
            "needs_background": "light"
          }
        }
      ]
    },
    {
      "cell_type": "code",
      "metadata": {
        "colab_type": "code",
        "id": "7MSHHKofI7HA",
        "colab": {
          "base_uri": "https://localhost:8080/",
          "height": 274
        },
        "outputId": "dc9b1ee3-6634-4959-bc4d-560c1cac55f8"
      },
      "source": [
        "sns.boxplot(\"odometer\", data = cars_data, orient = \"v\")\n",
        "plt.tick_params(labelsize = 20)\n",
        "plt.show()"
      ],
      "execution_count": 42,
      "outputs": [
        {
          "output_type": "display_data",
          "data": {
            "image/png": "[encoded data removed]",
            "text/plain": [
              "<Figure size 432x288 with 1 Axes>"
            ]
          },
          "metadata": {
            "tags": [],
            "needs_background": "light"
          }
        }
      ]
    },
    {
      "cell_type": "code",
      "metadata": {
        "colab_type": "code",
        "id": "ByWNVwZdPO5U",
        "colab": {
          "base_uri": "https://localhost:8080/",
          "height": 194
        },
        "outputId": "e9a950e2-ecaf-417c-f946-c35d83dd76ff"
      },
      "source": [
        "quantile_odometer = cars_data[\"odometer\"].quantile(np.round(np.arange(0.0, 0.1, 0.01), 2))\n",
        "qValues = np.round(np.arange(0.0, 0.1, 0.01), 2)\n",
        "for i in qValues:\n",
        "    print(\"{}th percentile value of Odometer is {}\".format((int(i*100)), quantile_odometer[i]))"
      ],
      "execution_count": 43,
      "outputs": [
        {
          "output_type": "stream",
          "text": [
            "0th percentile value of Odometer is 0.0\n",
            "1th percentile value of Odometer is 112.0\n",
            "2th percentile value of Odometer is 1349.2800000000007\n",
            "3th percentile value of Odometer is 6000.0\n",
            "4th percentile value of Odometer is 9816.0\n",
            "5th percentile value of Odometer is 12679.0\n",
            "6th percentile value of Odometer is 15247.0\n",
            "7th percentile value of Odometer is 17562.0\n",
            "8th percentile value of Odometer is 19660.0\n",
            "9th percentile value of Odometer is 21690.759999999995\n"
          ],
          "name": "stdout"
        }
      ]
    },
    {
      "cell_type": "code",
      "metadata": {
        "colab_type": "code",
        "id": "NZyyj5MTJJH1",
        "colab": {
          "base_uri": "https://localhost:8080/",
          "height": 212
        },
        "outputId": "6595f31c-f48c-4588-ad51-428d1fcbfe2f"
      },
      "source": [
        "quantile_odometer = cars_data[\"odometer\"].quantile(np.round(np.arange(0.00, 1.01, 0.1), 2))\n",
        "qValues = np.round(np.arange(0.00, 1.01, 0.1), 2)\n",
        "for i in qValues:\n",
        "    print(\"{}th percentile value of Odometer is {}\".format((int(i*100)), quantile_odometer[i]))"
      ],
      "execution_count": 44,
      "outputs": [
        {
          "output_type": "stream",
          "text": [
            "0th percentile value of Odometer is 0.0\n",
            "10th percentile value of Odometer is 23792.200000000004\n",
            "20th percentile value of Odometer is 41000.0\n",
            "30th percentile value of Odometer is 59733.0\n",
            "40th percentile value of Odometer is 77446.0\n",
            "50th percentile value of Odometer is 93548.0\n",
            "60th percentile value of Odometer is 109251.0\n",
            "70th percentile value of Odometer is 127000.0\n",
            "80th percentile value of Odometer is 147882.0\n",
            "90th percentile value of Odometer is 177970.3999999999\n",
            "100th percentile value of Odometer is 10000000.0\n"
          ],
          "name": "stdout"
        }
      ]
    },
    {
      "cell_type": "code",
      "metadata": {
        "colab_type": "code",
        "id": "OBZeRnHmNAgG",
        "colab": {
          "base_uri": "https://localhost:8080/",
          "height": 194
        },
        "outputId": "d7dc39db-adb2-483e-9937-46fecad86bd1"
      },
      "source": [
        "quantile_odometer = cars_data[\"odometer\"].quantile(np.round(np.arange(0.91, 1.01, 0.01), 2))\n",
        "qValues = np.round(np.arange(0.91, 1.01, 0.01), 2)\n",
        "for i in qValues:\n",
        "    print(\"{}th percentile value of Odometer is {}\".format((int(i*100)), quantile_odometer[i]))"
      ],
      "execution_count": 45,
      "outputs": [
        {
          "output_type": "stream",
          "text": [
            "91th percentile value of Odometer is 181573.15999999992\n",
            "92th percentile value of Odometer is 186055.0\n",
            "93th percentile value of Odometer is 191415.0\n",
            "94th percentile value of Odometer is 198000.0\n",
            "95th percentile value of Odometer is 204000.0\n",
            "96th percentile value of Odometer is 213110.0\n",
            "97th percentile value of Odometer is 225000.0\n",
            "98th percentile value of Odometer is 242000.0\n",
            "99th percentile value of Odometer is 275531.0\n",
            "100th percentile value of Odometer is 10000000.0\n"
          ],
          "name": "stdout"
        }
      ]
    },
    {
      "cell_type": "code",
      "metadata": {
        "colab_type": "code",
        "id": "Cl9aOSpXNPR7",
        "colab": {
          "base_uri": "https://localhost:8080/",
          "height": 194
        },
        "outputId": "fd957588-04c0-422a-f101-266e0ee6fa08"
      },
      "source": [
        "quantile_odometer = cars_data[\"odometer\"].quantile(np.round(np.arange(0.991, 1.001, 0.001), 4))\n",
        "qValues = np.round(np.arange(0.991, 1.001, 0.001), 4)\n",
        "for i in qValues:\n",
        "    print(\"{}th percentile value of Odometer is {}\".format(((i*100)), quantile_odometer[i]))"
      ],
      "execution_count": 46,
      "outputs": [
        {
          "output_type": "stream",
          "text": [
            "99.1th percentile value of Odometer is 281932.224\n",
            "99.2th percentile value of Odometer is 290000.0\n",
            "99.3th percentile value of Odometer is 298000.0\n",
            "99.4th percentile value of Odometer is 308132.19200000237\n",
            "99.5th percentile value of Odometer is 331000.0\n",
            "99.6th percentile value of Odometer is 369075.0\n",
            "99.7th percentile value of Odometer is 466519.5359999563\n",
            "99.8th percentile value of Odometer is 632330.4879999852\n",
            "99.9th percentile value of Odometer is 999999.0\n",
            "100.0th percentile value of Odometer is 10000000.0\n"
          ],
          "name": "stdout"
        }
      ]
    },
    {
      "cell_type": "code",
      "metadata": {
        "colab_type": "code",
        "id": "S8FZMAiiNfqD",
        "colab": {
          "base_uri": "https://localhost:8080/",
          "height": 52
        },
        "outputId": "157729b4-d439-4844-a44b-894b025f94d0"
      },
      "source": [
        "outliers_odometer = cars_data[cars_data[\"odometer\"] > cars_data[\"odometer\"].quantile(0.995)]\n",
        "print(\"Total records: \", outliers_odometer.shape[0])\n",
        "print(\"The percentage of outlier data points : \", round(outliers_odometer.shape[0] / len(cars_data), 5))"
      ],
      "execution_count": 47,
      "outputs": [
        {
          "output_type": "stream",
          "text": [
            "Total records:  1635\n",
            "The percentage of outlier data points :  0.00418\n"
          ],
          "name": "stdout"
        }
      ]
    },
    {
      "cell_type": "code",
      "metadata": {
        "colab_type": "code",
        "id": "oHF9_e_KPtrj",
        "colab": {}
      },
      "source": [
        "cars_data = cars_data[(cars_data[\"odometer\"] >= cars_data[\"odometer\"].quantile(0.05)) & (cars_data[\"odometer\"] <= cars_data[\"odometer\"].quantile(0.995))]"
      ],
      "execution_count": 48,
      "outputs": []
    },
    {
      "cell_type": "code",
      "metadata": {
        "colab_type": "code",
        "id": "zF1LNCl_QL8y",
        "colab": {
          "base_uri": "https://localhost:8080/",
          "height": 194
        },
        "outputId": "f37093ba-5507-45de-eeac-ffcef0e1b765"
      },
      "source": [
        "quantile_odometer = cars_data[\"odometer\"].quantile(np.round(np.arange(0.991, 1.001, 0.001), 4))\n",
        "qValues = np.round(np.arange(0.991, 1.001, 0.001), 4)\n",
        "for i in qValues:\n",
        "    print(\"{}th percentile value of Odometer is {}\".format(((i*100)), quantile_odometer[i]))"
      ],
      "execution_count": 49,
      "outputs": [
        {
          "output_type": "stream",
          "text": [
            "99.1th percentile value of Odometer is 260000.0\n",
            "99.2th percentile value of Odometer is 263678.8159999972\n",
            "99.3th percentile value of Odometer is 267447.18199999956\n",
            "99.4th percentile value of Odometer is 272000.0\n",
            "99.5th percentile value of Odometer is 277400.0900000001\n",
            "99.6th percentile value of Odometer is 283695.01200000005\n",
            "99.7th percentile value of Odometer is 291000.0\n",
            "99.8th percentile value of Odometer is 299820.0099999999\n",
            "99.9th percentile value of Odometer is 309211.0650000031\n",
            "100.0th percentile value of Odometer is 331000.0\n"
          ],
          "name": "stdout"
        }
      ]
    },
    {
      "cell_type": "code",
      "metadata": {
        "colab_type": "code",
        "id": "XqrytWDkQHts",
        "colab": {}
      },
      "source": [
        "cars_data = cars_data[cars_data[\"odometer\"] <= cars_data[\"odometer\"].quantile(0.999)]"
      ],
      "execution_count": 50,
      "outputs": []
    },
    {
      "cell_type": "code",
      "metadata": {
        "colab_type": "code",
        "id": "Wi9j_h6IOacB",
        "colab": {
          "base_uri": "https://localhost:8080/",
          "height": 287
        },
        "outputId": "32bd9ae5-c278-4c2f-a65f-815f6a43bbd4"
      },
      "source": [
        "#Odometer\n",
        "\n",
        "sns.distplot(cars_data[\"odometer\"], bins=50, hist=True, kde=True)\n",
        "plt.show()"
      ],
      "execution_count": 51,
      "outputs": [
        {
          "output_type": "display_data",
          "data": {
            "image/png": "[encoded data removed]",
            "text/plain": [
              "<Figure size 432x288 with 1 Axes>"
            ]
          },
          "metadata": {
            "tags": [],
            "needs_background": "light"
          }
        }
      ]
    },
    {
      "cell_type": "code",
      "metadata": {
        "colab_type": "code",
        "id": "liB8xDOuSpCQ",
        "colab": {
          "base_uri": "https://localhost:8080/",
          "height": 141
        },
        "outputId": "d3731c26-dda1-44c7-cbc7-c95292032c27"
      },
      "source": [
        "# Title Status\n",
        "\n",
        "cars_data[\"title_status\"].value_counts()"
      ],
      "execution_count": 52,
      "outputs": [
        {
          "output_type": "execute_result",
          "data": {
            "text/plain": [
              "clean         293947\n",
              "rebuilt         8387\n",
              "salvage         3617\n",
              "lien            2120\n",
              "missing          160\n",
              "parts only        39\n",
              "Name: title_status, dtype: int64"
            ]
          },
          "metadata": {
            "tags": []
          },
          "execution_count": 52
        }
      ]
    },
    {
      "cell_type": "code",
      "metadata": {
        "colab_type": "code",
        "id": "-kSC_rH6T2cB",
        "colab": {}
      },
      "source": [
        "cars_data[\"title_status\"] = cars_data[\"title_status\"].fillna(\"clean\")"
      ],
      "execution_count": 53,
      "outputs": []
    },
    {
      "cell_type": "code",
      "metadata": {
        "colab_type": "code",
        "id": "fCUXr4LNUDtN",
        "colab": {
          "base_uri": "https://localhost:8080/",
          "height": 87
        },
        "outputId": "18eb0c9a-27e1-4ed3-fed7-3ac3e4b963e2"
      },
      "source": [
        "# Transmission\n",
        "cars_data[\"transmission\"].value_counts()"
      ],
      "execution_count": 54,
      "outputs": [
        {
          "output_type": "execute_result",
          "data": {
            "text/plain": [
              "automatic    277368\n",
              "manual        17792\n",
              "other         12913\n",
              "Name: transmission, dtype: int64"
            ]
          },
          "metadata": {
            "tags": []
          },
          "execution_count": 54
        }
      ]
    },
    {
      "cell_type": "code",
      "metadata": {
        "colab_type": "code",
        "id": "cIW4sPtTUOa7",
        "colab": {}
      },
      "source": [
        "cars_data[\"transmission\"] = cars_data[\"transmission\"].fillna(\"automatic\")"
      ],
      "execution_count": 55,
      "outputs": []
    },
    {
      "cell_type": "code",
      "metadata": {
        "colab_type": "code",
        "id": "uS55Ql_tUU5N",
        "colab": {
          "base_uri": "https://localhost:8080/",
          "height": 87
        },
        "outputId": "161dd151-63ac-4896-8c3d-d97490f7e2fd"
      },
      "source": [
        "# Drive\n",
        "cars_data[\"drive\"].value_counts()"
      ],
      "execution_count": 56,
      "outputs": [
        {
          "output_type": "execute_result",
          "data": {
            "text/plain": [
              "4wd    114165\n",
              "fwd     89128\n",
              "rwd     44577\n",
              "Name: drive, dtype: int64"
            ]
          },
          "metadata": {
            "tags": []
          },
          "execution_count": 56
        }
      ]
    },
    {
      "cell_type": "code",
      "metadata": {
        "colab_type": "code",
        "id": "-TM1lrntVk-q",
        "colab": {}
      },
      "source": [
        "cars_data[\"drive\"] = cars_data[\"drive\"].fillna(\"fwd\")"
      ],
      "execution_count": 57,
      "outputs": []
    },
    {
      "cell_type": "code",
      "metadata": {
        "colab_type": "code",
        "id": "fGo_X4MBVu4T",
        "colab": {}
      },
      "source": [
        "cars_data[\"drive\"] = cars_data[\"drive\"].map({\"4wd\" : \"Forward\", \"fwd\" : \"Forward\", \"rwd\" : \"Rewind\"})"
      ],
      "execution_count": 58,
      "outputs": []
    },
    {
      "cell_type": "code",
      "metadata": {
        "colab_type": "code",
        "id": "y2ZbQYmqVQ8w",
        "colab": {
          "base_uri": "https://localhost:8080/",
          "height": 265
        },
        "outputId": "12730f51-ed0d-4f4c-954d-680ad647bd34"
      },
      "source": [
        "# Drive\n",
        "cars_data[\"type\"].value_counts()"
      ],
      "execution_count": 59,
      "outputs": [
        {
          "output_type": "execute_result",
          "data": {
            "text/plain": [
              "SUV            64666\n",
              "sedan          63838\n",
              "pickup         33189\n",
              "truck          29687\n",
              "coupe          12836\n",
              "hatchback      10198\n",
              "other           9694\n",
              "wagon           8456\n",
              "van             7860\n",
              "convertible     6645\n",
              "mini-van        4855\n",
              "bus              414\n",
              "offroad          398\n",
              "Name: type, dtype: int64"
            ]
          },
          "metadata": {
            "tags": []
          },
          "execution_count": 59
        }
      ]
    },
    {
      "cell_type": "code",
      "metadata": {
        "colab_type": "code",
        "id": "HnKBox9sWPvD",
        "colab": {}
      },
      "source": [
        "cars_data[\"type\"] = cars_data[\"type\"].fillna(\"Other\")"
      ],
      "execution_count": 60,
      "outputs": []
    },
    {
      "cell_type": "code",
      "metadata": {
        "colab_type": "code",
        "id": "833LZ_RqWv4m",
        "colab": {
          "base_uri": "https://localhost:8080/",
          "height": 247
        },
        "outputId": "d15fe944-42c1-49f8-a554-9091bb8ab998"
      },
      "source": [
        "# Paint Color\n",
        "\n",
        "cars_data[\"paint_color\"].value_counts()"
      ],
      "execution_count": 61,
      "outputs": [
        {
          "output_type": "execute_result",
          "data": {
            "text/plain": [
              "white     62270\n",
              "black     47759\n",
              "silver    36594\n",
              "grey      24640\n",
              "blue      23868\n",
              "red       22471\n",
              "custom     5939\n",
              "green      5880\n",
              "brown      5289\n",
              "yellow     1482\n",
              "orange     1372\n",
              "purple      567\n",
              "Name: paint_color, dtype: int64"
            ]
          },
          "metadata": {
            "tags": []
          },
          "execution_count": 61
        }
      ]
    },
    {
      "cell_type": "code",
      "metadata": {
        "colab_type": "code",
        "id": "kD7gG5NoXMQG",
        "colab": {}
      },
      "source": [
        "# Adding feature to provide the age of the vehicle\n",
        "cars_data[\"Age\"] = 2020 - cars_data[\"year\"]"
      ],
      "execution_count": 62,
      "outputs": []
    },
    {
      "cell_type": "code",
      "metadata": {
        "colab_type": "code",
        "id": "TOK_aFPOW-ZR",
        "colab": {}
      },
      "source": [
        "# Dropping paint color\n",
        "\n",
        "cars_data.drop([\"paint_color\", \"year\"], axis = 1, inplace = True)"
      ],
      "execution_count": 63,
      "outputs": []
    },
    {
      "cell_type": "code",
      "metadata": {
        "colab_type": "code",
        "id": "TwO_GmVseCJH",
        "colab": {
          "base_uri": "https://localhost:8080/",
          "height": 197
        },
        "outputId": "b1cd3fe9-f318-44e4-ae53-25f3b25d51b5"
      },
      "source": [
        "cars_data.head()"
      ],
      "execution_count": 64,
      "outputs": [
        {
          "output_type": "execute_result",
          "data": {
            "text/html": [
              "<div>\n",
              "<style scoped>\n",
              "    .dataframe tbody tr th:only-of-type {\n",
              "        vertical-align: middle;\n",
              "    }\n",
              "\n",
              "    .dataframe tbody tr th {\n",
              "        vertical-align: top;\n",
              "    }\n",
              "\n",
              "    .dataframe thead th {\n",
              "        text-align: right;\n",
              "    }\n",
              "</style>\n",
              "<table border=\"1\" class=\"dataframe\">\n",
              "  <thead>\n",
              "    <tr style=\"text-align: right;\">\n",
              "      <th></th>\n",
              "      <th>price</th>\n",
              "      <th>cylinders</th>\n",
              "      <th>fuel</th>\n",
              "      <th>odometer</th>\n",
              "      <th>title_status</th>\n",
              "      <th>transmission</th>\n",
              "      <th>drive</th>\n",
              "      <th>type</th>\n",
              "      <th>Description Length</th>\n",
              "      <th>Age</th>\n",
              "    </tr>\n",
              "  </thead>\n",
              "  <tbody>\n",
              "    <tr>\n",
              "      <th>1</th>\n",
              "      <td>13750</td>\n",
              "      <td>6.0</td>\n",
              "      <td>gas</td>\n",
              "      <td>76237.0</td>\n",
              "      <td>clean</td>\n",
              "      <td>automatic</td>\n",
              "      <td>Rewind</td>\n",
              "      <td>sedan</td>\n",
              "      <td>859</td>\n",
              "      <td>6</td>\n",
              "    </tr>\n",
              "    <tr>\n",
              "      <th>2</th>\n",
              "      <td>2300</td>\n",
              "      <td>6.0</td>\n",
              "      <td>gas</td>\n",
              "      <td>199000.0</td>\n",
              "      <td>clean</td>\n",
              "      <td>automatic</td>\n",
              "      <td>Forward</td>\n",
              "      <td>Other</td>\n",
              "      <td>334</td>\n",
              "      <td>19</td>\n",
              "    </tr>\n",
              "    <tr>\n",
              "      <th>3</th>\n",
              "      <td>9000</td>\n",
              "      <td>5.0</td>\n",
              "      <td>gas</td>\n",
              "      <td>54000.0</td>\n",
              "      <td>clean</td>\n",
              "      <td>automatic</td>\n",
              "      <td>Rewind</td>\n",
              "      <td>pickup</td>\n",
              "      <td>470</td>\n",
              "      <td>16</td>\n",
              "    </tr>\n",
              "    <tr>\n",
              "      <th>7</th>\n",
              "      <td>8500</td>\n",
              "      <td>6.0</td>\n",
              "      <td>gas</td>\n",
              "      <td>62800.0</td>\n",
              "      <td>clean</td>\n",
              "      <td>automatic</td>\n",
              "      <td>Rewind</td>\n",
              "      <td>convertible</td>\n",
              "      <td>718</td>\n",
              "      <td>15</td>\n",
              "    </tr>\n",
              "    <tr>\n",
              "      <th>9</th>\n",
              "      <td>5950</td>\n",
              "      <td>6.0</td>\n",
              "      <td>gas</td>\n",
              "      <td>102415.0</td>\n",
              "      <td>rebuilt</td>\n",
              "      <td>automatic</td>\n",
              "      <td>Forward</td>\n",
              "      <td>van</td>\n",
              "      <td>4061</td>\n",
              "      <td>16</td>\n",
              "    </tr>\n",
              "  </tbody>\n",
              "</table>\n",
              "</div>"
            ],
            "text/plain": [
              "   price  cylinders fuel  odometer title_status transmission    drive  \\\n",
              "1  13750        6.0  gas   76237.0        clean    automatic   Rewind   \n",
              "2   2300        6.0  gas  199000.0        clean    automatic  Forward   \n",
              "3   9000        5.0  gas   54000.0        clean    automatic   Rewind   \n",
              "7   8500        6.0  gas   62800.0        clean    automatic   Rewind   \n",
              "9   5950        6.0  gas  102415.0      rebuilt    automatic  Forward   \n",
              "\n",
              "          type  Description Length  Age  \n",
              "1        sedan                 859    6  \n",
              "2        Other                 334   19  \n",
              "3       pickup                 470   16  \n",
              "7  convertible                 718   15  \n",
              "9          van                4061   16  "
            ]
          },
          "metadata": {
            "tags": []
          },
          "execution_count": 64
        }
      ]
    },
    {
      "cell_type": "code",
      "metadata": {
        "colab_type": "code",
        "id": "QUGcXy4jeUN7",
        "colab": {
          "base_uri": "https://localhost:8080/",
          "height": 318
        },
        "outputId": "dad907b8-94bd-4c82-bcfc-d644b8b1afce"
      },
      "source": [
        "cars_data.info()"
      ],
      "execution_count": 65,
      "outputs": [
        {
          "output_type": "stream",
          "text": [
            "<class 'pandas.core.frame.DataFrame'>\n",
            "Int64Index: 309690 entries, 1 to 435848\n",
            "Data columns (total 10 columns):\n",
            " #   Column              Non-Null Count   Dtype  \n",
            "---  ------              --------------   -----  \n",
            " 0   price               309690 non-null  int64  \n",
            " 1   cylinders           309690 non-null  float64\n",
            " 2   fuel                309690 non-null  object \n",
            " 3   odometer            309690 non-null  float64\n",
            " 4   title_status        309690 non-null  object \n",
            " 5   transmission        309690 non-null  object \n",
            " 6   drive               309690 non-null  object \n",
            " 7   type                309690 non-null  object \n",
            " 8   Description Length  309690 non-null  int64  \n",
            " 9   Age                 309690 non-null  int64  \n",
            "dtypes: float64(2), int64(3), object(5)\n",
            "memory usage: 26.0+ MB\n"
          ],
          "name": "stdout"
        }
      ]
    },
    {
      "cell_type": "markdown",
      "metadata": {
        "colab_type": "text",
        "id": "9_VLi8R8XiqR"
      },
      "source": [
        "### Handling Categorical Variables"
      ]
    },
    {
      "cell_type": "code",
      "metadata": {
        "colab_type": "code",
        "id": "UBVoWk-7gTYw",
        "colab": {}
      },
      "source": [
        "from sklearn.preprocessing import OneHotEncoder, LabelEncoder\n",
        "from sklearn.preprocessing import StandardScaler\n",
        "from sklearn.model_selection import train_test_split\n"
      ],
      "execution_count": 66,
      "outputs": []
    },
    {
      "cell_type": "code",
      "metadata": {
        "colab_type": "code",
        "id": "bh7LiVGYaJeU",
        "colab": {}
      },
      "source": [
        "le1 = LabelEncoder()\n",
        "fuel = le1.fit_transform(cars_data[\"fuel\"])"
      ],
      "execution_count": 67,
      "outputs": []
    },
    {
      "cell_type": "code",
      "metadata": {
        "colab_type": "code",
        "id": "-0XxIYWRagft",
        "colab": {}
      },
      "source": [
        "ohe1 = OneHotEncoder()\n",
        "fuel_ohe = ohe1.fit_transform(fuel.reshape(-1,1))\n",
        "fuel_ohe = pd.DataFrame(fuel_ohe.toarray(), columns = le1.classes_)"
      ],
      "execution_count": 68,
      "outputs": []
    },
    {
      "cell_type": "code",
      "metadata": {
        "colab_type": "code",
        "id": "DMXd3bMAaoxW",
        "colab": {}
      },
      "source": [
        "le2 = LabelEncoder()\n",
        "title = le2.fit_transform(cars_data[\"title_status\"])"
      ],
      "execution_count": 69,
      "outputs": []
    },
    {
      "cell_type": "code",
      "metadata": {
        "colab_type": "code",
        "id": "bGL5YiRla4BM",
        "colab": {}
      },
      "source": [
        "ohe2 = OneHotEncoder()\n",
        "title_ohe = ohe2.fit_transform(title.reshape(-1,1))\n",
        "title_ohe = pd.DataFrame(title_ohe.toarray(), columns = le2.classes_)"
      ],
      "execution_count": 70,
      "outputs": []
    },
    {
      "cell_type": "code",
      "metadata": {
        "colab_type": "code",
        "id": "TDNpC3VIbHKm",
        "colab": {}
      },
      "source": [
        "le3 = LabelEncoder()\n",
        "transmission = le3.fit_transform(cars_data[\"transmission\"])"
      ],
      "execution_count": 71,
      "outputs": []
    },
    {
      "cell_type": "code",
      "metadata": {
        "colab_type": "code",
        "id": "aEUy_D5CbeV2",
        "colab": {}
      },
      "source": [
        "ohe3 = OneHotEncoder()\n",
        "transmission_ohe = ohe3.fit_transform(transmission.reshape(-1,1))\n",
        "transmission_ohe = pd.DataFrame(transmission_ohe.toarray(), columns = le3.classes_)"
      ],
      "execution_count": 72,
      "outputs": []
    },
    {
      "cell_type": "code",
      "metadata": {
        "colab_type": "code",
        "id": "yckTm-XsbqAx",
        "colab": {}
      },
      "source": [
        "le4 = LabelEncoder()\n",
        "drive = le4.fit_transform(cars_data[\"drive\"])"
      ],
      "execution_count": 73,
      "outputs": []
    },
    {
      "cell_type": "code",
      "metadata": {
        "colab_type": "code",
        "id": "IJYXLXe-b9SI",
        "colab": {}
      },
      "source": [
        "ohe4 = OneHotEncoder()\n",
        "drive_ohe = ohe4.fit_transform(drive.reshape(-1,1))\n",
        "drive_ohe = pd.DataFrame(drive_ohe.toarray(), columns = le4.classes_)"
      ],
      "execution_count": 74,
      "outputs": []
    },
    {
      "cell_type": "code",
      "metadata": {
        "colab_type": "code",
        "id": "23GlvZuZbzt-",
        "colab": {}
      },
      "source": [
        "le5 = LabelEncoder()\n",
        "car_type = le5.fit_transform(cars_data[\"type\"])"
      ],
      "execution_count": 75,
      "outputs": []
    },
    {
      "cell_type": "code",
      "metadata": {
        "colab_type": "code",
        "id": "DByJLkj-b7TY",
        "colab": {}
      },
      "source": [
        "ohe5 = OneHotEncoder()\n",
        "car_type_ohe = ohe5.fit_transform(car_type.reshape(-1,1))\n",
        "car_type_ohe = pd.DataFrame(car_type_ohe.toarray(), columns = le5.classes_)"
      ],
      "execution_count": 76,
      "outputs": []
    },
    {
      "cell_type": "markdown",
      "metadata": {
        "colab_type": "text",
        "id": "GH-dTR9xc2fy"
      },
      "source": [
        "# Feature Selection"
      ]
    },
    {
      "cell_type": "code",
      "metadata": {
        "colab_type": "code",
        "id": "o3DUOsAscQ_e",
        "colab": {
          "base_uri": "https://localhost:8080/",
          "height": 607
        },
        "outputId": "e172bede-ce84-42d5-9229-c4b0a7230bf1"
      },
      "source": [
        "#Finding the correlation\n",
        "\n",
        "plt.figure(figsize = (20,10))\n",
        "sns.heatmap(cars_data.corr(), annot = True, cmap = \"RdYlGn\")\n",
        "plt.show()"
      ],
      "execution_count": 77,
      "outputs": [
        {
          "output_type": "display_data",
          "data": {
            "image/png": "[encoded data removed]",
            "text/plain": [
              "<Figure size 1440x720 with 2 Axes>"
            ]
          },
          "metadata": {
            "tags": [],
            "needs_background": "light"
          }
        }
      ]
    },
    {
      "cell_type": "markdown",
      "metadata": {
        "colab_type": "text",
        "id": "Usxj0pgrdcMh"
      },
      "source": [
        "### Data Preparation"
      ]
    },
    {
      "cell_type": "code",
      "metadata": {
        "colab_type": "code",
        "id": "LA_Zw9Djd2gu",
        "colab": {}
      },
      "source": [
        "fuel_ohe.drop([fuel_ohe.columns[len(fuel_ohe.columns)-1]], axis=1, inplace = True)\n",
        "title_ohe.drop([title_ohe.columns[len(title_ohe.columns)-1]], axis=1, inplace = True)\n",
        "transmission_ohe.drop([transmission_ohe.columns[len(transmission_ohe.columns)-1]], axis=1, inplace = True)\n",
        "drive_ohe.drop([drive_ohe.columns[len(drive_ohe.columns)-1]], axis=1, inplace = True)\n",
        "car_type_ohe.drop([car_type_ohe.columns[len(car_type_ohe.columns)-1]], axis=1, inplace = True)  "
      ],
      "execution_count": 78,
      "outputs": []
    },
    {
      "cell_type": "code",
      "metadata": {
        "colab_type": "code",
        "id": "9nznMTEfhdAN",
        "colab": {}
      },
      "source": [
        "num_feat = cars_data[[\"cylinders\", \"odometer\", \"Description Length\", \"Age\"]].reset_index().drop([\"index\"], axis = 1)"
      ],
      "execution_count": 79,
      "outputs": []
    },
    {
      "cell_type": "code",
      "metadata": {
        "colab_type": "code",
        "id": "mJwJ4LmjhF51",
        "colab": {}
      },
      "source": [
        "std_scale = StandardScaler()\n",
        "\n",
        "scaled_num_feat = std_scale.fit_transform(num_feat.values)"
      ],
      "execution_count": 80,
      "outputs": []
    },
    {
      "cell_type": "code",
      "metadata": {
        "colab_type": "code",
        "id": "rE1Uj7M9d-ZY",
        "colab": {}
      },
      "source": [
        "X = pd.concat([fuel_ohe, title_ohe, transmission_ohe, drive_ohe, car_type_ohe, pd.DataFrame(scaled_num_feat, columns = num_feat.columns)], axis = 1)"
      ],
      "execution_count": 81,
      "outputs": []
    },
    {
      "cell_type": "code",
      "metadata": {
        "colab_type": "code",
        "id": "G7Mf6pbDe-ib",
        "colab": {}
      },
      "source": [
        "y = cars_data[[\"price\"]]"
      ],
      "execution_count": 82,
      "outputs": []
    },
    {
      "cell_type": "markdown",
      "metadata": {
        "colab_type": "text",
        "id": "W9wyv3fIhBjt"
      },
      "source": [
        "### Feature Selection"
      ]
    },
    {
      "cell_type": "code",
      "metadata": {
        "colab_type": "code",
        "id": "9B2K87dxfAYB",
        "colab": {}
      },
      "source": [
        "from sklearn.ensemble import ExtraTreesRegressor"
      ],
      "execution_count": 83,
      "outputs": []
    },
    {
      "cell_type": "code",
      "metadata": {
        "colab_type": "code",
        "id": "AnPtpyYwfKxv",
        "colab": {
          "base_uri": "https://localhost:8080/",
          "height": 141
        },
        "outputId": "a332348e-1f70-4d5c-839e-48a544c6f575"
      },
      "source": [
        "selection = ExtraTreesRegressor()\n",
        "selection.fit(X, y)"
      ],
      "execution_count": 84,
      "outputs": [
        {
          "output_type": "execute_result",
          "data": {
            "text/plain": [
              "ExtraTreesRegressor(bootstrap=False, ccp_alpha=0.0, criterion='mse',\n",
              "                    max_depth=None, max_features='auto', max_leaf_nodes=None,\n",
              "                    max_samples=None, min_impurity_decrease=0.0,\n",
              "                    min_impurity_split=None, min_samples_leaf=1,\n",
              "                    min_samples_split=2, min_weight_fraction_leaf=0.0,\n",
              "                    n_estimators=100, n_jobs=None, oob_score=False,\n",
              "                    random_state=None, verbose=0, warm_start=False)"
            ]
          },
          "metadata": {
            "tags": []
          },
          "execution_count": 84
        }
      ]
    },
    {
      "cell_type": "code",
      "metadata": {
        "colab_type": "code",
        "id": "1P0s-rqNgtf4",
        "colab": {
          "base_uri": "https://localhost:8080/",
          "height": 491
        },
        "outputId": "da51918f-19e6-4e9d-b4fa-ac275c3bf959"
      },
      "source": [
        "#plot graph of feature importances for better visualization\n",
        "\n",
        "plt.figure(figsize = (12,8))\n",
        "feat_importances = pd.Series(selection.feature_importances_, index=X.columns)\n",
        "feat_importances.nlargest(20).plot(kind='barh')\n",
        "plt.show()"
      ],
      "execution_count": 85,
      "outputs": [
        {
          "output_type": "display_data",
          "data": {
            "image/png": "[encoded data removed]",
            "text/plain": [
              "<Figure size 864x576 with 1 Axes>"
            ]
          },
          "metadata": {
            "tags": [],
            "needs_background": "light"
          }
        }
      ]
    },
    {
      "cell_type": "code",
      "metadata": {
        "colab_type": "code",
        "id": "jmeV_ydekDB4",
        "colab": {}
      },
      "source": [
        "X_train, X_test, y_train, y_test = train_test_split(X.values, y.values, test_size = 0.3, random_state = 50)"
      ],
      "execution_count": 86,
      "outputs": []
    },
    {
      "cell_type": "markdown",
      "metadata": {
        "colab_type": "text",
        "id": "OjLabEfJj0CR"
      },
      "source": [
        "### Model Fitting"
      ]
    },
    {
      "cell_type": "code",
      "metadata": {
        "colab_type": "code",
        "id": "M-86Y_nOjv6g",
        "colab": {}
      },
      "source": [
        "from sklearn import metrics\n",
        "from sklearn.linear_model import LinearRegression, Ridge, Lasso, SGDRegressor\n",
        "from sklearn.tree import DecisionTreeRegressor\n",
        "from sklearn.ensemble import RandomForestRegressor\n",
        "from sklearn.ensemble import AdaBoostRegressor\n",
        "from sklearn.ensemble import GradientBoostingRegressor\n",
        "from xgboost import XGBRegressor\n",
        "\n",
        "from sklearn.model_selection import GridSearchCV, ShuffleSplit, RandomizedSearchCV\n",
        "\n",
        "np.set_printoptions(formatter={'float_kind':'{:f}'.format})"
      ],
      "execution_count": 87,
      "outputs": []
    },
    {
      "cell_type": "code",
      "metadata": {
        "colab_type": "code",
        "id": "JVI_r1Spj70I",
        "colab": {}
      },
      "source": [
        "def fcnPrintErrorMetrics(y_test, y_pred):\n",
        "    print('R2:', metrics.r2_score(y_test, y_pred))\n",
        "    print('MAE:', metrics.mean_absolute_error(y_test, y_pred))\n",
        "    print('MSE:', metrics.mean_squared_error(y_test, y_pred))\n",
        "    print('RMSE:', np.sqrt(metrics.mean_squared_error(y_test, y_pred)))\n",
        "    #sns.distplot(y_test - y_pred)"
      ],
      "execution_count": 88,
      "outputs": []
    },
    {
      "cell_type": "code",
      "metadata": {
        "colab_type": "code",
        "id": "qlAWdCSjkASr",
        "colab": {
          "base_uri": "https://localhost:8080/",
          "height": 87
        },
        "outputId": "3e486b03-896a-411c-fa25-d643ac0677b5"
      },
      "source": [
        "lin_reg = LinearRegression()\n",
        "lin_reg.fit(X_train, y_train)\n",
        "y_pred = lin_reg.predict(X_test)\n",
        "\n",
        "fcnPrintErrorMetrics(y_test, y_pred)"
      ],
      "execution_count": 89,
      "outputs": [
        {
          "output_type": "stream",
          "text": [
            "R2: 0.5939681586968901\n",
            "MAE: 4411.619349349431\n",
            "MSE: 38810414.75326477\n",
            "RMSE: 6229.800538802569\n"
          ],
          "name": "stdout"
        }
      ]
    },
    {
      "cell_type": "code",
      "metadata": {
        "colab_type": "code",
        "id": "DX-XXDHIkTp1",
        "colab": {
          "base_uri": "https://localhost:8080/",
          "height": 87
        },
        "outputId": "b00b94cf-9579-4e62-942f-b05e061730fe"
      },
      "source": [
        "ridge = Ridge()\n",
        "parameters = {'alpha':[1e-15,1e-10,1e-8,1e-3,1e-2,1,5,10,20,30,35,40]}\n",
        "ridge_regressor = GridSearchCV(ridge, parameters, scoring='neg_mean_squared_error', cv=5)\n",
        "ridge_regressor.fit(X_train, y_train)\n",
        "y_pred2 = ridge_regressor.predict(X_test)\n",
        "\n",
        "fcnPrintErrorMetrics(y_test, y_pred2)"
      ],
      "execution_count": 90,
      "outputs": [
        {
          "output_type": "stream",
          "text": [
            "R2: 0.5939696348262324\n",
            "MAE: 4411.597599197136\n",
            "MSE: 38810273.65794619\n",
            "RMSE: 6229.7892145678725\n"
          ],
          "name": "stdout"
        }
      ]
    },
    {
      "cell_type": "code",
      "metadata": {
        "colab_type": "code",
        "id": "nennS8JAl1Tj",
        "colab": {
          "base_uri": "https://localhost:8080/",
          "height": 87
        },
        "outputId": "dc9b744f-371a-4e54-b541-8aaf3dee9e3f"
      },
      "source": [
        "lasso = Lasso()\n",
        "parameters = {'alpha':[1e-15,1e-10,1e-8,1e-3,1e-2,1,5,10,20,30,35,40]}\n",
        "lasso_regressor = GridSearchCV(lasso, parameters, scoring='neg_mean_squared_error', cv=5)\n",
        "lasso_regressor.fit(X_train,y_train)\n",
        "y_pred3 = ridge_regressor.predict(X_test)\n",
        "\n",
        "fcnPrintErrorMetrics(y_test, y_pred3)"
      ],
      "execution_count": 91,
      "outputs": [
        {
          "output_type": "stream",
          "text": [
            "R2: 0.5939696348262324\n",
            "MAE: 4411.597599197136\n",
            "MSE: 38810273.65794619\n",
            "RMSE: 6229.7892145678725\n"
          ],
          "name": "stdout"
        }
      ]
    },
    {
      "cell_type": "code",
      "metadata": {
        "colab_type": "code",
        "id": "JCFh2lUyl5VX",
        "colab": {
          "base_uri": "https://localhost:8080/",
          "height": 87
        },
        "outputId": "0b1c5d16-9e7f-4611-e65d-c17bb8a14bf8"
      },
      "source": [
        "dt_reg = DecisionTreeRegressor()\n",
        "dt_reg.fit(X_train, y_train)\n",
        "y_pred4 = dt_reg.predict(X_test)\n",
        "\n",
        "fcnPrintErrorMetrics(y_test, y_pred4)"
      ],
      "execution_count": 92,
      "outputs": [
        {
          "output_type": "stream",
          "text": [
            "R2: 0.7155479225674548\n",
            "MAE: 2677.173064629594\n",
            "MSE: 27189254.584453966\n",
            "RMSE: 5214.331652710054\n"
          ],
          "name": "stdout"
        }
      ]
    },
    {
      "cell_type": "code",
      "metadata": {
        "colab_type": "code",
        "id": "E5ejftH6nEmZ",
        "colab": {
          "base_uri": "https://localhost:8080/",
          "height": 87
        },
        "outputId": "4f08feef-1a89-4fc4-b97d-e62c9633ad20"
      },
      "source": [
        "rf_reg = RandomForestRegressor()\n",
        "rf_reg.fit(X_train, y_train)\n",
        "y_pred5 = rf_reg.predict(X_test)\n",
        "\n",
        "fcnPrintErrorMetrics(y_test, y_pred5)"
      ],
      "execution_count": 93,
      "outputs": [
        {
          "output_type": "stream",
          "text": [
            "R2: 0.8357078197011307\n",
            "MAE: 2273.9532510277095\n",
            "MSE: 15703811.892322244\n",
            "RMSE: 3962.8035394556523\n"
          ],
          "name": "stdout"
        }
      ]
    },
    {
      "cell_type": "code",
      "metadata": {
        "colab_type": "code",
        "id": "PGsc6CQ6nKcC",
        "colab": {
          "base_uri": "https://localhost:8080/",
          "height": 87
        },
        "outputId": "cbc271a9-e55a-4ddd-fb93-117bc1144e4c"
      },
      "source": [
        "ab_reg = AdaBoostRegressor(loss = \"linear\")\n",
        "ab_reg.fit(X_train, y_train)\n",
        "y_pred6 = ab_reg.predict(X_test)\n",
        "\n",
        "fcnPrintErrorMetrics(y_test, y_pred6)"
      ],
      "execution_count": 94,
      "outputs": [
        {
          "output_type": "stream",
          "text": [
            "R2: 0.08610738659958261\n",
            "MAE: 7853.362597676488\n",
            "MSE: 87354113.04734932\n",
            "RMSE: 9346.342228238238\n"
          ],
          "name": "stdout"
        }
      ]
    },
    {
      "cell_type": "code",
      "metadata": {
        "colab_type": "code",
        "id": "KeMa-jpdxsTE",
        "colab": {
          "base_uri": "https://localhost:8080/",
          "height": 87
        },
        "outputId": "fb00fd3b-8825-4adf-897a-c6dc4283e5e5"
      },
      "source": [
        "gb_reg = GradientBoostingRegressor(max_depth = 7, max_features = 4, n_estimators = 35)\n",
        "gb_reg.fit(X_train, y_train)\n",
        "y_pred7 = gb_reg.predict(X_test)\n",
        "\n",
        "fcnPrintErrorMetrics(y_test, y_pred7)"
      ],
      "execution_count": 95,
      "outputs": [
        {
          "output_type": "stream",
          "text": [
            "R2: 0.7075429819939237\n",
            "MAE: 3620.058944811311\n",
            "MSE: 27954404.092770614\n",
            "RMSE: 5287.192458457571\n"
          ],
          "name": "stdout"
        }
      ]
    },
    {
      "cell_type": "code",
      "metadata": {
        "colab_type": "code",
        "id": "zJwc5_fRxyth",
        "colab": {
          "base_uri": "https://localhost:8080/",
          "height": 105
        },
        "outputId": "66c45c9e-d107-4dd2-f4c8-3aa88e6eca2f"
      },
      "source": [
        "xgb_reg = XGBRegressor()\n",
        "xgb_reg.fit(X_train, y_train)\n",
        "y_pred8 = xgb_reg.predict(X_test)\n",
        "\n",
        "fcnPrintErrorMetrics(y_test, y_pred8)"
      ],
      "execution_count": 96,
      "outputs": [
        {
          "output_type": "stream",
          "text": [
            "[06:27:36] WARNING: /workspace/src/objective/regression_obj.cu:152: reg:linear is now deprecated in favor of reg:squarederror.\n",
            "R2: 0.7083123303011445\n",
            "MAE: 3607.4078170071953\n",
            "MSE: 27880866.197818507\n",
            "RMSE: 5280.233536295389\n"
          ],
          "name": "stdout"
        }
      ]
    },
    {
      "cell_type": "code",
      "metadata": {
        "colab_type": "code",
        "id": "UBaQiFpHyBjJ",
        "colab": {}
      },
      "source": [
        "def find_best_model(X, y):\n",
        "    algos = {\n",
        "        'random_forest': {\n",
        "            'model': RandomForestRegressor(),\n",
        "            'params': {\n",
        "                \"n_estimators\" : [int(x) for x in np.linspace(start = 100, stop = 1000, num = 50)],\n",
        "                \"max_depth\" : [int(x) for x in np.linspace(5, 30, num = 6)]         \n",
        "            }\n",
        "        }\n",
        "    }\n",
        "    \n",
        "    scores = []\n",
        "    cv = ShuffleSplit(n_splits=5, test_size=0.2, random_state=0)\n",
        "    for algo_name, config in algos.items():\n",
        "        gs =  RandomizedSearchCV(config['model'], config['params'], cv=cv, return_train_score=False)\n",
        "        gs.fit(X,y)\n",
        "        scores.append({\n",
        "            'model': algo_name,\n",
        "            'best_score': gs.best_score_,\n",
        "            'best_params': gs.best_params_\n",
        "        })\n",
        "\n",
        "    return pd.DataFrame(scores,columns=['model','best_score','best_params'])\n",
        "\n",
        "\n",
        "#model_scores = find_best_model(X.values, y.values)\n",
        "#model_scores"
      ],
      "execution_count": 97,
      "outputs": []
    },
    {
      "cell_type": "code",
      "metadata": {
        "colab_type": "code",
        "id": "KjuNdepeyKZc",
        "colab": {
          "base_uri": "https://localhost:8080/",
          "height": 87
        },
        "outputId": "cad9805a-22d0-4b87-b8dc-98f4bbb475bc"
      },
      "source": [
        "rf_reg_f = RandomForestRegressor()\n",
        "rf_reg_f.fit(X.values, y.values)\n",
        "y_pred = rf_reg.predict(X.values)\n",
        "\n",
        "fcnPrintErrorMetrics(y.values, y_pred)"
      ],
      "execution_count": 98,
      "outputs": [
        {
          "output_type": "stream",
          "text": [
            "R2: 0.9344211256504011\n",
            "MAE: 1279.2197315301637\n",
            "MSE: 6255716.600071217\n",
            "RMSE: 2501.143058697606\n"
          ],
          "name": "stdout"
        }
      ]
    },
    {
      "cell_type": "markdown",
      "metadata": {
        "colab_type": "text",
        "id": "91RZ4WlWPUdA"
      },
      "source": [
        "### Saving the model"
      ]
    },
    {
      "cell_type": "code",
      "metadata": {
        "colab_type": "code",
        "id": "2op26qGKPUKc",
        "colab": {}
      },
      "source": [
        "import pickle\n",
        "import json"
      ],
      "execution_count": 99,
      "outputs": []
    },
    {
      "cell_type": "code",
      "metadata": {
        "colab_type": "code",
        "id": "IlwcodPELnTf",
        "colab": {}
      },
      "source": [
        "with open('car_price_predictor.pickle','wb') as f:\n",
        "    pickle.dump(rf_reg_f, f)"
      ],
      "execution_count": null,
      "outputs": []
    },
    {
      "cell_type": "code",
      "metadata": {
        "colab_type": "code",
        "id": "WMU0fuhZPgUu",
        "colab": {}
      },
      "source": [
        "cat_feature_columns = {\n",
        "    \"fuel\" : [col for col in le1.classes_], \n",
        "    \"title\" : [col for col in le2.classes_],\n",
        "    \"transmission\" : [col for col in le3.classes_], \n",
        "    \"drive\" : [col for col in le4.classes_], \n",
        "    \"car_type\" : [col for col in le5.classes_], \n",
        "    \"data_columns\" : [col for col in X.columns],\n",
        "}\n",
        "\n",
        "with open(\"columns.json\", \"w\") as f:\n",
        "    f.write(json.dumps(cat_feature_columns))"
      ],
      "execution_count": 101,
      "outputs": []
    },
    {
      "cell_type": "code",
      "metadata": {
        "colab_type": "code",
        "id": "bXhY-itAQtrO",
        "colab": {}
      },
      "source": [
        ""
      ],
      "execution_count": 101,
      "outputs": []
    },
    {
      "cell_type": "code",
      "metadata": {
        "colab_type": "code",
        "id": "QFySMHIBR8Zs",
        "colab": {}
      },
      "source": [
        ""
      ],
      "execution_count": 101,
      "outputs": []
    }
  ]
}